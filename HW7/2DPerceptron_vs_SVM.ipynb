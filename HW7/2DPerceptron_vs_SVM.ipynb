{
 "cells": [
  {
   "cell_type": "code",
   "execution_count": 41,
   "metadata": {
    "collapsed": true
   },
   "outputs": [],
   "source": [
    "import numpy as np\n",
    "import random\n",
    "import matplotlib.pyplot as plt\n",
    "import sklearn.svm as svm"
   ]
  },
  {
   "cell_type": "code",
   "execution_count": 42,
   "metadata": {
    "collapsed": true
   },
   "outputs": [],
   "source": [
    "def get_points(num, minval = -1.0, maxval = 1.0, dim = 2):\n",
    "    points = np.asarray([[None for i in range(dim)] for j in range(num)])\n",
    "    for i in range(dim):\n",
    "        for j in range(num):\n",
    "            points[j,i] = random.uniform(minval, maxval)    \n",
    "    return points"
   ]
  },
  {
   "cell_type": "code",
   "execution_count": 43,
   "metadata": {
    "collapsed": true
   },
   "outputs": [],
   "source": [
    "def get_target_fn(points):\n",
    "    # y = mx + b\n",
    "    #returns m, b\n",
    "    x1 = points[0,0]\n",
    "    y1 = points[0,1]\n",
    "    x2 = points[1,0]\n",
    "    y2 = points[1,1]\n",
    "    m = (y2-y1)/(x2-x1)\n",
    "    b = y1 - m*(x1)\n",
    "    return m, b"
   ]
  },
  {
   "cell_type": "code",
   "execution_count": 44,
   "metadata": {
    "collapsed": true
   },
   "outputs": [],
   "source": [
    "def get_y(x,m,b):\n",
    "    return m*x + b"
   ]
  },
  {
   "cell_type": "code",
   "execution_count": 45,
   "metadata": {
    "collapsed": true
   },
   "outputs": [],
   "source": [
    "def init_weights(dim = 2):\n",
    "    w = np.zeros(dim+1)\n",
    "    return w"
   ]
  },
  {
   "cell_type": "code",
   "execution_count": 46,
   "metadata": {
    "collapsed": true
   },
   "outputs": [],
   "source": [
    "def eval_target_fn(datapoints,m,b):\n",
    "    y = np.zeros(len(datapoints))\n",
    "    for i in range(len(datapoints)):\n",
    "        if datapoints[i,1] < datapoints[i,0]*m + b:\n",
    "            y[i] = -1\n",
    "        else:\n",
    "            y[i] = 1\n",
    "    return y"
   ]
  },
  {
   "cell_type": "code",
   "execution_count": 47,
   "metadata": {
    "collapsed": true
   },
   "outputs": [],
   "source": [
    "def get_sign(vec):\n",
    "    sign = np.zeros(len(vec))\n",
    "    for i in range(len(vec)):\n",
    "        if vec[i] == 0:\n",
    "            sign[i] = 0.0\n",
    "        else:\n",
    "            if vec[i] < 0:\n",
    "                sign[i] = -1.0\n",
    "            else:\n",
    "                sign[i] = 1.0\n",
    "    return sign              "
   ]
  },
  {
   "cell_type": "code",
   "execution_count": 48,
   "metadata": {
    "collapsed": true
   },
   "outputs": [],
   "source": [
    "def get_misclassified_point_idx(sign, y):\n",
    "    idx = []\n",
    "    for i in range(len(sign)):\n",
    "        if sign[i] != y[i]:\n",
    "            idx.append(i)\n",
    "    return idx"
   ]
  },
  {
   "cell_type": "code",
   "execution_count": 49,
   "metadata": {
    "collapsed": true
   },
   "outputs": [],
   "source": [
    "def update_weights(w,x,y,idx):\n",
    "    w = w + y[idx]*x[idx]\n",
    "    return w\n",
    "    "
   ]
  },
  {
   "cell_type": "code",
   "execution_count": 50,
   "metadata": {
    "collapsed": true
   },
   "outputs": [],
   "source": [
    "def add_bias_to_x(x):\n",
    "    bias = np.ones(len(x[:,0]))\n",
    "    x = np.c_[x,bias]\n",
    "    return x"
   ]
  },
  {
   "cell_type": "code",
   "execution_count": 51,
   "metadata": {
    "collapsed": true
   },
   "outputs": [],
   "source": [
    "def get_target(N,minval = -1.0, maxval = 1.0, dim = 2):\n",
    "    \n",
    "    target_fn_points = get_points(dim)\n",
    "    m, b  = get_target_fn(target_fn_points)\n",
    "    x = get_points(N)\n",
    "    y = eval_target_fn(x,m,b)\n",
    "    return m,b,x,y"
   ]
  },
  {
   "cell_type": "code",
   "execution_count": 76,
   "metadata": {
    "collapsed": true
   },
   "outputs": [],
   "source": [
    "def estimate_disagreement(w, m, b, num_test_points = 100, test_points = None):\n",
    "    if test_points == None:\n",
    "        test_x = get_points(num_test_points)\n",
    "    else:\n",
    "        test_x = test_points\n",
    "    test_y = eval_target_fn(test_x,m,b)\n",
    "    test_x = add_bias_to_x(test_x)\n",
    "    vec = w.dot(test_x.transpose())\n",
    "    sign = get_sign(vec)\n",
    "    idx = get_misclassified_point_idx(sign,test_y)\n",
    "    disagreement_prob = float(len(idx))/float(num_test_points)\n",
    "    return disagreement_prob\n",
    "    "
   ]
  },
  {
   "cell_type": "code",
   "execution_count": 77,
   "metadata": {
    "collapsed": true
   },
   "outputs": [],
   "source": [
    "def estimate_svm_disagreement(clf, m, b, num_test_points = 100, test_points = None):\n",
    "    if test_points == None:\n",
    "        test_x = get_points(num_test_points)\n",
    "    else:\n",
    "        test_x = test_points\n",
    "    test_y = eval_target_fn(test_x,m,b)\n",
    "    sign = clf.predict(test_x)\n",
    "    \n",
    "    idx = get_misclassified_point_idx(sign,test_y)\n",
    "    disagreement_prob = float(len(idx))/float(num_test_points)\n",
    "    return disagreement_prob\n",
    "    "
   ]
  },
  {
   "cell_type": "code",
   "execution_count": 53,
   "metadata": {
    "collapsed": true
   },
   "outputs": [],
   "source": [
    "def plot_target(m,b,x,y):\n",
    "    plt.plot((-1,1), (get_y(-1,m,b), get_y(1,m,b)))\n",
    "    plt.xlim([-1,1])\n",
    "    plt.ylim([-1,1])\n",
    "    neg_x = [x[i,0] for i in range(len(x[:,0])) if y[i] < 0]\n",
    "    pos_x = [x[i,0] for i in range(len(x[:,0])) if y[i] > 0]\n",
    "    neg_y = [x[i,1] for i in range(len(x[:,1])) if y[i] < 0]\n",
    "    pos_y = [x[i,1] for i in range(len(x[:,1])) if y[i] > 0]\n",
    "    plt.plot(neg_x, neg_y,'r*')\n",
    "    plt.plot(pos_x, pos_y,'b*')\n",
    "    plt.title('Target data')\n",
    "    plt.show()"
   ]
  },
  {
   "cell_type": "code",
   "execution_count": 54,
   "metadata": {
    "collapsed": true
   },
   "outputs": [],
   "source": [
    "def plot_lr(m,b,x,y, iteration):\n",
    "    plt.plot((-1,1), (get_y(-1,m,b), get_y(1,m,b)), '--')\n",
    "    plt.xlim([-1,1])\n",
    "    plt.ylim([-1,1])\n",
    "    neg_x = [x[i,0] for i in range(len(data[:,0])) if y[i] < 0]\n",
    "    pos_x = [x[i,0] for i in range(len(data[:,0])) if y[i] > 0]\n",
    "    neg_y = [x[i,1] for i in range(len(data[:,1])) if y[i] < 0]\n",
    "    pos_y = [x[i,1] for i in range(len(data[:,1])) if y[i] > 0]\n",
    "    plt.plot(neg_x, neg_y,'r*')\n",
    "    plt.plot(pos_x, pos_y,'b*')\n",
    "    \n",
    "    plt.title('PLA iteration '+str(iteration))\n",
    "    plt.show()"
   ]
  },
  {
   "cell_type": "code",
   "execution_count": 78,
   "metadata": {
    "collapsed": true
   },
   "outputs": [],
   "source": [
    "def PLA(m,b,x,y,w,threshold = 0.1, minval = -1.0, maxval = 1.0, dim = 2, test_points = None):\n",
    "    iter_count = 0\n",
    "    idx = list(range(len(y)))\n",
    "    while len(idx) > 0: #while there are misclassified points\n",
    "        iter_count += 1\n",
    "        vec = w.dot(x.transpose())\n",
    "        sign = get_sign(vec)\n",
    "        idx = get_misclassified_point_idx(sign,y)\n",
    "        if len(idx) > 0:\n",
    "            w = update_weights(w,x,y,random.choice(idx))\n",
    "    disagreement_prob = estimate_disagreement(w,m,b,test_points=test_points)\n",
    "    return iter_count, disagreement_prob\n",
    "        \n",
    "        "
   ]
  },
  {
   "cell_type": "code",
   "execution_count": 79,
   "metadata": {},
   "outputs": [
    {
     "name": "stderr",
     "output_type": "stream",
     "text": [
      "/Users/sarabeery/anaconda2/lib/python2.7/site-packages/ipykernel_launcher.py:2: FutureWarning: comparison to `None` will result in an elementwise object comparison in the future.\n",
      "  \n"
     ]
    },
    {
     "name": "stdout",
     "output_type": "stream",
     "text": [
      "0.5\n",
      "11.445\n",
      "0.53427\n",
      "0.4625\n",
      "0.381\n",
      "2.841\n"
     ]
    }
   ],
   "source": [
    "N = 10\n",
    "iterations = 1000\n",
    "num_test_points = 500\n",
    "num_iters = []\n",
    "disagreement_probs = []\n",
    "svm_disagree_probs = []\n",
    "n_support_vecs = []\n",
    "for i in range(iterations):\n",
    "    m,b,x,y = get_target(N)\n",
    "    while len(np.unique(y)) <2:\n",
    "        m,b,x,y = get_target(N)\n",
    "    #get test points\n",
    "    test_points = get_points(num_test_points)\n",
    "    #do PLA\n",
    "    x_with_bias = add_bias_to_x(x)\n",
    "    w = init_weights()\n",
    "    iter_count, disagreement = PLA(m,b,x_with_bias,y,w,test_points=test_points)\n",
    "    num_iters.append(iter_count)\n",
    "    disagreement_probs.append(disagreement)\n",
    "    #do SVM\n",
    "    clf = svm.SVC(C = 10e20, kernel = 'linear')\n",
    "    clf.fit(x, y)\n",
    "    svm_disagree_probs.append(estimate_svm_disagreement(clf,m,b,test_points=test_points))\n",
    "    n_support_vecs.append(len(clf.support_))\n",
    "\n",
    "print(disagreement_probs[0])\n",
    "print(np.mean(num_iters))\n",
    "print(np.mean(disagreement_probs))\n",
    "print(np.mean(svm_disagree_probs))\n",
    "print(sum([1 for i in range(len(svm_disagree_probs)) if svm_disagree_probs[i] > disagreement_probs[i]])/float(len(svm_disagree_probs)))\n",
    "print(np.mean(n_support_vecs))"
   ]
  },
  {
   "cell_type": "code",
   "execution_count": 84,
   "metadata": {},
   "outputs": [
    {
     "name": "stderr",
     "output_type": "stream",
     "text": [
      "/Users/sarabeery/anaconda2/lib/python2.7/site-packages/ipykernel_launcher.py:2: FutureWarning: comparison to `None` will result in an elementwise object comparison in the future.\n",
      "  \n"
     ]
    },
    {
     "name": "stdout",
     "output_type": "stream",
     "text": [
      "0.35\n",
      "106.947\n",
      "0.13385\n",
      "0.10638\n",
      "0.339\n",
      "2.998\n"
     ]
    }
   ],
   "source": [
    "N = 100\n",
    "iterations = 1000\n",
    "num_test_points = 1000\n",
    "num_iters = []\n",
    "disagreement_probs = []\n",
    "svm_disagree_probs = []\n",
    "n_support_vecs = []\n",
    "for i in range(iterations):\n",
    "    m,b,x,y = get_target(N)\n",
    "    while len(np.unique(y)) <2:\n",
    "        m,b,x,y = get_target(N)\n",
    "    #get test points\n",
    "    test_points = get_points(num_test_points)\n",
    "    #do PLA\n",
    "    x_with_bias = add_bias_to_x(x)\n",
    "    w = init_weights()\n",
    "    iter_count, disagreement = PLA(m,b,x_with_bias,y,w,test_points=test_points)\n",
    "    num_iters.append(iter_count)\n",
    "    disagreement_probs.append(disagreement)\n",
    "    #do SVM\n",
    "    clf = svm.SVC(C = 10e20, kernel = 'linear')\n",
    "    clf.fit(x, y)\n",
    "    svm_disagree_probs.append(estimate_svm_disagreement(clf,m,b,test_points=test_points))\n",
    "    n_support_vecs.append(len(clf.support_))\n",
    "\n",
    "print(disagreement_probs[0])\n",
    "print(np.mean(num_iters))\n",
    "print(np.mean(disagreement_probs))\n",
    "print(np.mean(svm_disagree_probs))\n",
    "print(sum([1 for i in range(len(svm_disagree_probs)) if svm_disagree_probs[i] > disagreement_probs[i]])/float(len(svm_disagree_probs)))\n",
    "print(np.mean(n_support_vecs))"
   ]
  },
  {
   "cell_type": "code",
   "execution_count": null,
   "metadata": {
    "collapsed": true
   },
   "outputs": [],
   "source": []
  },
  {
   "cell_type": "code",
   "execution_count": null,
   "metadata": {
    "collapsed": true
   },
   "outputs": [],
   "source": []
  }
 ],
 "metadata": {
  "kernelspec": {
   "display_name": "Python 2",
   "language": "python",
   "name": "python2"
  },
  "language_info": {
   "codemirror_mode": {
    "name": "ipython",
    "version": 2
   },
   "file_extension": ".py",
   "mimetype": "text/x-python",
   "name": "python",
   "nbconvert_exporter": "python",
   "pygments_lexer": "ipython2",
   "version": "2.7.13"
  }
 },
 "nbformat": 4,
 "nbformat_minor": 2
}
