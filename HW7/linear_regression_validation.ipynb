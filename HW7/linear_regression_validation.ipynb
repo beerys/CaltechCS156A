{
 "cells": [
  {
   "cell_type": "code",
   "execution_count": 1,
   "metadata": {
    "collapsed": true
   },
   "outputs": [],
   "source": [
    "import numpy as np\n",
    "from matplotlib import pyplot as plt\n",
    "from sklearn.linear_model import LinearRegression"
   ]
  },
  {
   "cell_type": "code",
   "execution_count": 2,
   "metadata": {
    "collapsed": true
   },
   "outputs": [],
   "source": [
    "in_data = []\n",
    "with open('in.dta','r') as f:\n",
    "    for line in f:\n",
    "        in_data.append([float(i) for i in line.split()])\n",
    "in_data = np.asarray(in_data)"
   ]
  },
  {
   "cell_type": "code",
   "execution_count": 3,
   "metadata": {
    "collapsed": true
   },
   "outputs": [],
   "source": [
    "out_data = []\n",
    "with open('out.dta','r') as f:\n",
    "    for line in f:\n",
    "        out_data.append([float(i) for i in line.split()])\n",
    "out_data = np.asarray(out_data)"
   ]
  },
  {
   "cell_type": "code",
   "execution_count": 4,
   "metadata": {
    "collapsed": true
   },
   "outputs": [],
   "source": [
    "#print(out_data)"
   ]
  },
  {
   "cell_type": "code",
   "execution_count": 12,
   "metadata": {
    "collapsed": true
   },
   "outputs": [],
   "source": [
    "def nonlinear_transform(X, k):\n",
    "    new_X = []\n",
    "    for x in X:\n",
    "        x1 = x[0]\n",
    "        x2 = x[1]\n",
    "        new_x = [1, x1, x2, x1**2, x2**2, x1*x2, np.abs(x1-x2), np.abs(x1+x2)]\n",
    "        new_x = [new_x[i] for i in range(k+1)]\n",
    "        new_X.append(new_x)\n",
    "    return np.asarray(new_X)"
   ]
  },
  {
   "cell_type": "code",
   "execution_count": 6,
   "metadata": {
    "collapsed": true
   },
   "outputs": [],
   "source": [
    "def linear_regression(X, y):\n",
    "    X_plus = np.linalg.inv(X.transpose().dot(X)).dot(X.transpose())\n",
    "    w = X_plus.dot(y)\n",
    "    return(w)\n",
    "    "
   ]
  },
  {
   "cell_type": "code",
   "execution_count": 22,
   "metadata": {
    "collapsed": true
   },
   "outputs": [],
   "source": [
    "def linear_regression_weight_decay(X, y, l):\n",
    "    X_plus = np.linalg.inv(X.transpose().dot(X) + l*np.eye(X.shape[1])).dot(X.transpose())\n",
    "    w = X_plus.dot(y)\n",
    "    return(w)"
   ]
  },
  {
   "cell_type": "code",
   "execution_count": 8,
   "metadata": {
    "collapsed": true
   },
   "outputs": [],
   "source": [
    "def get_error(X, w, y):\n",
    "    err = 0\n",
    "    count = 0\n",
    "    for x in X:\n",
    "        err += (w.dot(x) - y[count])**2\n",
    "        count += 1\n",
    "    err = err/float(count)\n",
    "    return err"
   ]
  },
  {
   "cell_type": "code",
   "execution_count": 9,
   "metadata": {
    "collapsed": true
   },
   "outputs": [],
   "source": [
    "def get_classification_error(X, w, y):\n",
    "    correct_idx = []\n",
    "    count = 0\n",
    "    for x in X:\n",
    "        if np.sign(w.dot(x)) == y[count]:\n",
    "            correct_idx.append(count)\n",
    "        count += 1\n",
    "    class_err = 1-len(correct_idx)/float(count) \n",
    "    return class_err"
   ]
  },
  {
   "cell_type": "code",
   "execution_count": 10,
   "metadata": {
    "collapsed": true
   },
   "outputs": [],
   "source": [
    "def plot_target_in_x_space(x,y):\n",
    "    neg_x = [x[i,0] for i in range(len(x[:,0])) if y[i] < 0]\n",
    "    pos_x = [x[i,0] for i in range(len(x[:,0])) if y[i] > 0]\n",
    "    neg_y = [x[i,1] for i in range(len(x[:,1])) if y[i] < 0]\n",
    "    pos_y = [x[i,1] for i in range(len(x[:,1])) if y[i] > 0]\n",
    "    plt.plot(neg_x, neg_y,'r*')\n",
    "    plt.plot(pos_x, pos_y,'b*')\n",
    "    plt.title('Target data')\n",
    "    plt.show()"
   ]
  },
  {
   "cell_type": "code",
   "execution_count": 11,
   "metadata": {
    "collapsed": true
   },
   "outputs": [],
   "source": [
    "def plot_disagreement_in_x_space(X,y,Z,w):\n",
    "    correct_idx = []\n",
    "    count = 0\n",
    "    for x in Z:\n",
    "        if np.sign(w.dot(x)) == y[count]:\n",
    "            correct_idx.append(count)\n",
    "        count += 1\n",
    "    neg_x = [X[i,0] for i in range(len(X[:,0])) if i not in correct_idx]\n",
    "    pos_x = [X[i,0] for i in range(len(X[:,0])) if i in correct_idx]\n",
    "    neg_y = [X[i,1] for i in range(len(X[:,1])) if i not in correct_idx]\n",
    "    pos_y = [X[i,1] for i in range(len(X[:,1])) if i in correct_idx]\n",
    "    plt.plot(neg_x, neg_y,'g*', label = 'correct')\n",
    "    plt.plot(pos_x, pos_y,'y*', label = 'incorrect')\n",
    "    plt.title('Linear Regression misclassified points')\n",
    "    plt.xlabel('x_1')\n",
    "    plt.ylabel('x_2')\n",
    "    plt.legend()\n",
    "    plt.savefig('Linear_Regression_disagreement.jpg')\n",
    "    plt.show()"
   ]
  },
  {
   "cell_type": "code",
   "execution_count": 13,
   "metadata": {},
   "outputs": [
    {
     "name": "stdout",
     "output_type": "stream",
     "text": [
      "3\n",
      "0.44\n",
      "0.3\n",
      "0.42\n",
      "4\n",
      "0.32\n",
      "0.5\n",
      "0.416\n",
      "5\n",
      "0.08\n",
      "0.2\n",
      "0.188\n",
      "6\n",
      "0.04\n",
      "0.0\n",
      "0.084\n",
      "7\n",
      "0.04\n",
      "0.1\n",
      "0.072\n"
     ]
    }
   ],
   "source": [
    "#using my own implementation, no weight decay, with validation\n",
    "train_data = in_data[:25,:]\n",
    "val_data = in_data[25:,:]\n",
    "X = train_data[:,:2]\n",
    "y = train_data[:,2]\n",
    "val_X = val_data[:,:2]\n",
    "val_y = val_data[:,2]\n",
    "test_X = out_data[:,:2]\n",
    "test_y = out_data[:,2]\n",
    "#plot_target_in_x_space(X,y)\n",
    "for k in [3,4,5,6,7]:\n",
    "    print(k)\n",
    "    \n",
    "    Z = nonlinear_transform(X,k)\n",
    "    w = linear_regression(Z,y)\n",
    "    in_sample_err = get_classification_error(Z,w,y)\n",
    "    print(in_sample_err)\n",
    "    \n",
    "    val_Z = nonlinear_transform(val_X,k)\n",
    "    val_err = get_classification_error(val_Z,w,val_y)\n",
    "    print(val_err)\n",
    "    \n",
    "    test_Z = nonlinear_transform(test_X,k)\n",
    "    test_err = get_classification_error(test_Z,w,test_y)\n",
    "    print(test_err)"
   ]
  },
  {
   "cell_type": "code",
   "execution_count": 21,
   "metadata": {},
   "outputs": [
    {
     "name": "stdout",
     "output_type": "stream",
     "text": [
      "3\n",
      "0.4\n",
      "0.28\n",
      "0.396\n",
      "4\n",
      "0.3\n",
      "0.36\n",
      "0.388\n",
      "5\n",
      "0.2\n",
      "0.2\n",
      "0.284\n",
      "6\n",
      "0.0\n",
      "0.08\n",
      "0.192\n",
      "7\n",
      "0.0\n",
      "0.12\n",
      "0.196\n"
     ]
    }
   ],
   "source": [
    "#using my own implementation, no weight decay, swapping train and validation from before\n",
    "train_data = in_data[25:,:]\n",
    "# print(train_data.shape)\n",
    "val_data = in_data[:25,:]\n",
    "# print(val_data.shape)\n",
    "X = train_data[:,:2]\n",
    "y = train_data[:,2]\n",
    "val_X = val_data[:,:2]\n",
    "val_y = val_data[:,2]\n",
    "test_X = out_data[:,:2]\n",
    "test_y = out_data[:,2]\n",
    "#plot_target_in_x_space(X,y)\n",
    "for k in [3,4,5,6,7]:\n",
    "    print(k)\n",
    "    \n",
    "    Z = nonlinear_transform(X,k)\n",
    "    #print(Z.shape)\n",
    "    w = linear_regression(Z,y)\n",
    "    in_sample_err = get_classification_error(Z,w,y)\n",
    "    print(in_sample_err)\n",
    "    \n",
    "    val_Z = nonlinear_transform(val_X,k)\n",
    "    val_err = get_classification_error(val_Z,w,val_y)\n",
    "    print(val_err)\n",
    "    \n",
    "    test_Z = nonlinear_transform(test_X,k)\n",
    "    test_err = get_classification_error(test_Z,w,test_y)\n",
    "    print(test_err)"
   ]
  },
  {
   "cell_type": "code",
   "execution_count": null,
   "metadata": {
    "collapsed": true
   },
   "outputs": [],
   "source": []
  }
 ],
 "metadata": {
  "kernelspec": {
   "display_name": "Python 2",
   "language": "python",
   "name": "python2"
  },
  "language_info": {
   "codemirror_mode": {
    "name": "ipython",
    "version": 2
   },
   "file_extension": ".py",
   "mimetype": "text/x-python",
   "name": "python",
   "nbconvert_exporter": "python",
   "pygments_lexer": "ipython2",
   "version": "2.7.13"
  }
 },
 "nbformat": 4,
 "nbformat_minor": 2
}
