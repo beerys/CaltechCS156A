{
 "cells": [
  {
   "cell_type": "code",
   "execution_count": 1,
   "metadata": {
    "collapsed": true
   },
   "outputs": [],
   "source": [
    "import numpy as np\n",
    "import random\n",
    "import matplotlib.pyplot as plt"
   ]
  },
  {
   "cell_type": "code",
   "execution_count": 2,
   "metadata": {
    "collapsed": true
   },
   "outputs": [],
   "source": [
    "def get_points(num, minval = -1.0, maxval = 1.0, dim = 2):\n",
    "    points = np.asarray([[None for i in range(dim)] for j in range(num)])\n",
    "    for i in range(dim):\n",
    "        for j in range(num):\n",
    "            points[j,i] = random.uniform(minval, maxval)    \n",
    "    return points"
   ]
  },
  {
   "cell_type": "code",
   "execution_count": 3,
   "metadata": {
    "collapsed": true
   },
   "outputs": [],
   "source": [
    "def get_target_fn(points):\n",
    "    # y = mx + b\n",
    "    #returns m, b\n",
    "    x1 = points[0,0]\n",
    "    y1 = points[0,1]\n",
    "    x2 = points[1,0]\n",
    "    y2 = points[1,1]\n",
    "    m = (y2-y1)/(x2-x1)\n",
    "    b = y1 - m*(x1)\n",
    "    return m, b"
   ]
  },
  {
   "cell_type": "code",
   "execution_count": 4,
   "metadata": {
    "collapsed": true
   },
   "outputs": [],
   "source": [
    "def get_y(x,m,b):\n",
    "    return m*x + b"
   ]
  },
  {
   "cell_type": "code",
   "execution_count": 5,
   "metadata": {
    "collapsed": true
   },
   "outputs": [],
   "source": [
    "def init_weights(dim = 2):\n",
    "    w = np.zeros(dim+1)\n",
    "    return w"
   ]
  },
  {
   "cell_type": "code",
   "execution_count": 6,
   "metadata": {
    "collapsed": true
   },
   "outputs": [],
   "source": [
    "def eval_target_fn(datapoints,m,b):\n",
    "    y = np.zeros(len(datapoints))\n",
    "    for i in range(len(datapoints)):\n",
    "        if datapoints[i,1] < datapoints[i,0]*m + b:\n",
    "            y[i] = -1\n",
    "        else:\n",
    "            y[i] = 1\n",
    "    return y"
   ]
  },
  {
   "cell_type": "code",
   "execution_count": 7,
   "metadata": {
    "collapsed": true
   },
   "outputs": [],
   "source": [
    "def get_sign(vec):\n",
    "    sign = np.zeros(len(vec))\n",
    "    for i in range(len(vec)):\n",
    "        if vec[i] == 0:\n",
    "            sign[i] = 0.0\n",
    "        else:\n",
    "            if vec[i] < 0:\n",
    "                sign[i] = -1.0\n",
    "            else:\n",
    "                sign[i] = 1.0\n",
    "    return sign              "
   ]
  },
  {
   "cell_type": "code",
   "execution_count": 8,
   "metadata": {
    "collapsed": true
   },
   "outputs": [],
   "source": [
    "def get_misclassified_point_idx(sign, y):\n",
    "    idx = []\n",
    "    for i in range(len(sign)):\n",
    "        if sign[i] != y[i]:\n",
    "            idx.append(i)\n",
    "    return idx"
   ]
  },
  {
   "cell_type": "code",
   "execution_count": 9,
   "metadata": {
    "collapsed": true
   },
   "outputs": [],
   "source": [
    "def update_weights(w,x,y,idx):\n",
    "    w = w + y[idx]*x[idx]\n",
    "    return w\n",
    "    "
   ]
  },
  {
   "cell_type": "code",
   "execution_count": 10,
   "metadata": {
    "collapsed": true
   },
   "outputs": [],
   "source": [
    "def add_bias_to_x(x):\n",
    "    bias = np.ones(len(x[:,0]))\n",
    "    x = np.c_[x,bias]\n",
    "    return x"
   ]
  },
  {
   "cell_type": "code",
   "execution_count": 11,
   "metadata": {
    "collapsed": true
   },
   "outputs": [],
   "source": [
    "def get_target(N,minval = -1.0, maxval = 1.0, dim = 2):\n",
    "    \n",
    "    target_fn_points = get_points(dim)\n",
    "    m, b  = get_target_fn(target_fn_points)\n",
    "    x = get_points(N)\n",
    "    y = eval_target_fn(x,m,b)\n",
    "    return m,b,x,y"
   ]
  },
  {
   "cell_type": "code",
   "execution_count": 12,
   "metadata": {
    "collapsed": true
   },
   "outputs": [],
   "source": [
    "def estimate_disagreement(w, m, b, num_test_points = 100):\n",
    "    test_x = get_points(num_test_points)\n",
    "    test_y = eval_target_fn(test_x,m,b)\n",
    "    test_x = add_bias_to_x(test_x)\n",
    "    vec = w.dot(test_x.transpose())\n",
    "    sign = get_sign(vec)\n",
    "    idx = get_misclassified_point_idx(sign,test_y)\n",
    "    disagreement_prob = float(len(idx))/float(num_test_points)\n",
    "    return disagreement_prob\n",
    "    "
   ]
  },
  {
   "cell_type": "code",
   "execution_count": 13,
   "metadata": {
    "collapsed": true
   },
   "outputs": [],
   "source": [
    "def plot_target(m,b,x,y):\n",
    "    plt.plot((-1,1), (get_y(-1,m,b), get_y(1,m,b)))\n",
    "    plt.xlim([-1,1])\n",
    "    plt.ylim([-1,1])\n",
    "    neg_x = [x[i,0] for i in range(len(x[:,0])) if y[i] < 0]\n",
    "    pos_x = [x[i,0] for i in range(len(x[:,0])) if y[i] > 0]\n",
    "    neg_y = [x[i,1] for i in range(len(x[:,1])) if y[i] < 0]\n",
    "    pos_y = [x[i,1] for i in range(len(x[:,1])) if y[i] > 0]\n",
    "    plt.plot(neg_x, neg_y,'r*')\n",
    "    plt.plot(pos_x, pos_y,'b*')\n",
    "    plt.title('Target data')\n",
    "    plt.show()"
   ]
  },
  {
   "cell_type": "code",
   "execution_count": 14,
   "metadata": {
    "collapsed": true
   },
   "outputs": [],
   "source": [
    "def plot_lr(m,b,x,y, iteration):\n",
    "    plt.plot((-1,1), (get_y(-1,m,b), get_y(1,m,b)), '--')\n",
    "    plt.xlim([-1,1])\n",
    "    plt.ylim([-1,1])\n",
    "    neg_x = [x[i,0] for i in range(len(data[:,0])) if y[i] < 0]\n",
    "    pos_x = [x[i,0] for i in range(len(data[:,0])) if y[i] > 0]\n",
    "    neg_y = [x[i,1] for i in range(len(data[:,1])) if y[i] < 0]\n",
    "    pos_y = [x[i,1] for i in range(len(data[:,1])) if y[i] > 0]\n",
    "    plt.plot(neg_x, neg_y,'r*')\n",
    "    plt.plot(pos_x, pos_y,'b*')\n",
    "    \n",
    "    plt.title('PLA iteration '+str(iteration))\n",
    "    plt.show()"
   ]
  },
  {
   "cell_type": "code",
   "execution_count": 15,
   "metadata": {
    "collapsed": true
   },
   "outputs": [],
   "source": [
    "def PLA(N, threshold = 0.1, minval = -1.0, maxval = 1.0, dim = 2):\n",
    "    m,b,x,y = get_target(N)\n",
    "    x = add_bias_to_x(x)\n",
    "    w = init_weights()\n",
    "    iter_count = 0\n",
    "    idx = list(range(len(y)))\n",
    "    while len(idx) > 0: #while there are misclassified points\n",
    "        iter_count += 1\n",
    "        vec = w.dot(x.transpose())\n",
    "        sign = get_sign(vec)\n",
    "        idx = get_misclassified_point_idx(sign,y)\n",
    "        if len(idx) > 0:\n",
    "            w = update_weights(w,x,y,random.choice(idx))\n",
    "    disagreement_prob = estimate_disagreement(w,m,b)\n",
    "    return iter_count, disagreement_prob\n",
    "        \n",
    "        "
   ]
  },
  {
   "cell_type": "code",
   "execution_count": 16,
   "metadata": {},
   "outputs": [
    {
     "name": "stdout",
     "output_type": "stream",
     "text": [
      "0.01\n",
      "129.068\n",
      "0.01389\n"
     ]
    }
   ],
   "source": [
    "N = 100\n",
    "iterations = 1000\n",
    "num_iters = []\n",
    "disagreement_probs = []\n",
    "for i in range(iterations):\n",
    "    iter_count, disagreement = PLA(N)\n",
    "    num_iters.append(iter_count)\n",
    "    disagreement_probs.append(disagreement)\n",
    "\n",
    "print(disagreement_probs[0])\n",
    "print(np.mean(num_iters))\n",
    "print(np.mean(disagreement_probs))"
   ]
  },
  {
   "cell_type": "code",
   "execution_count": 17,
   "metadata": {},
   "outputs": [
    {
     "ename": "NameError",
     "evalue": "name 'x' is not defined",
     "output_type": "error",
     "traceback": [
      "\u001b[0;31m---------------------------------------------------------------------------\u001b[0m",
      "\u001b[0;31mNameError\u001b[0m                                 Traceback (most recent call last)",
      "\u001b[0;32m<ipython-input-17-bbcda26b616c>\u001b[0m in \u001b[0;36m<module>\u001b[0;34m()\u001b[0m\n\u001b[1;32m      1\u001b[0m \u001b[0;34m\u001b[0m\u001b[0m\n\u001b[0;32m----> 2\u001b[0;31m \u001b[0mplot_target\u001b[0m\u001b[0;34m(\u001b[0m\u001b[0mx\u001b[0m\u001b[0;34m,\u001b[0m\u001b[0mm\u001b[0m\u001b[0;34m,\u001b[0m\u001b[0mb\u001b[0m\u001b[0;34m,\u001b[0m\u001b[0my\u001b[0m\u001b[0;34m)\u001b[0m\u001b[0;34m\u001b[0m\u001b[0m\n\u001b[0m",
      "\u001b[0;31mNameError\u001b[0m: name 'x' is not defined"
     ]
    }
   ],
   "source": [
    "\n",
    "plot_target(x,m,b,y)"
   ]
  },
  {
   "cell_type": "code",
   "execution_count": null,
   "metadata": {
    "collapsed": true
   },
   "outputs": [],
   "source": []
  },
  {
   "cell_type": "code",
   "execution_count": null,
   "metadata": {
    "collapsed": true
   },
   "outputs": [],
   "source": []
  }
 ],
 "metadata": {
  "kernelspec": {
   "display_name": "Python 2",
   "language": "python",
   "name": "python2"
  },
  "language_info": {
   "codemirror_mode": {
    "name": "ipython",
    "version": 2
   },
   "file_extension": ".py",
   "mimetype": "text/x-python",
   "name": "python",
   "nbconvert_exporter": "python",
   "pygments_lexer": "ipython2",
   "version": "2.7.13"
  }
 },
 "nbformat": 4,
 "nbformat_minor": 2
}
