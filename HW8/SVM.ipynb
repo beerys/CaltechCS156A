{
 "cells": [
  {
   "cell_type": "code",
   "execution_count": 92,
   "metadata": {
    "collapsed": true
   },
   "outputs": [],
   "source": [
    "import numpy as np\n",
    "import random\n",
    "import matplotlib.pyplot as plt\n",
    "import sklearn.svm as svm\n",
    "from sklearn.model_selection import KFold"
   ]
  },
  {
   "cell_type": "code",
   "execution_count": 52,
   "metadata": {},
   "outputs": [],
   "source": [
    "#digit intensity symmetry\n",
    "train = {}\n",
    "for digit in range(10):\n",
    "    train[digit] = []\n",
    "with open('features.train','r') as f:\n",
    "    for line in f:\n",
    "        line = [float(i) for i in line.split()]\n",
    "        train[line[0]].append(line[1:])\n",
    "for digit in range(10):\n",
    "    train[digit] = np.asarray(train[digit])"
   ]
  },
  {
   "cell_type": "code",
   "execution_count": 53,
   "metadata": {},
   "outputs": [
    {
     "name": "stdout",
     "output_type": "stream",
     "text": [
      "(1005, 2)\n"
     ]
    }
   ],
   "source": [
    "print(train[1].shape)"
   ]
  },
  {
   "cell_type": "code",
   "execution_count": 54,
   "metadata": {},
   "outputs": [],
   "source": [
    "test = {}\n",
    "for digit in range(10):\n",
    "    test[digit] = []\n",
    "with open('features.test','r') as f:\n",
    "    for line in f:\n",
    "        line = [float(i) for i in line.split()]\n",
    "        test[line[0]].append(line[1:])\n",
    "for digit in range(10):\n",
    "    test[digit] = np.asarray(test[digit])"
   ]
  },
  {
   "cell_type": "code",
   "execution_count": 62,
   "metadata": {},
   "outputs": [
    {
     "name": "stdout",
     "output_type": "stream",
     "text": [
      "[(359, 2), (264, 2), (198, 2), (166, 2), (200, 2), (160, 2), (170, 2), (147, 2), (166, 2), (177, 2)]\n"
     ]
    }
   ],
   "source": [
    "print([test[i].shape for i in range(10)])"
   ]
  },
  {
   "cell_type": "code",
   "execution_count": 55,
   "metadata": {},
   "outputs": [],
   "source": [
    "def get_misclassified_point_idx(a,b):\n",
    "    idx = []\n",
    "    for i in range(len(a)):\n",
    "        if a[i] != b[i]:\n",
    "            idx.append(i)\n",
    "    return idx"
   ]
  },
  {
   "cell_type": "code",
   "execution_count": 118,
   "metadata": {},
   "outputs": [],
   "source": [
    "def soft_margin_svm(train_data,train_class,test_data,test_class,C,kernel,degree=None):\n",
    "    if kernel is 'poly':\n",
    "        clf = svm.SVC(C = C, kernel = kernel, degree=degree, gamma=1,coef0 = 0)\n",
    "    else:\n",
    "        clf = svm.SVC(C = C, kernel = kernel,gamma=1)\n",
    "    clf.fit(train_data, train_class)\n",
    "    train_results = clf.predict(train_data)\n",
    "    idx = get_misclassified_point_idx(train_class,train_results)\n",
    "    e_in = len(idx)/float(len(train_class))\n",
    "    test_results = clf.predict(test_data)\n",
    "    idx = get_misclassified_point_idx(test_class,test_results)\n",
    "    e_out = len(idx)/float(len(test_class))\n",
    "    n_support_vecs = len(clf.support_)\n",
    "    \n",
    "    return e_in,e_out, n_support_vecs\n",
    "    "
   ]
  },
  {
   "cell_type": "code",
   "execution_count": 119,
   "metadata": {
    "collapsed": true
   },
   "outputs": [],
   "source": [
    "def create_train_test_data_one_v_all(digit,train,test):\n",
    "    train_data = []\n",
    "    train_class = []\n",
    "    test_data = []\n",
    "    test_class = []\n",
    "    \n",
    "    for i in range(10):\n",
    "        if i == digit:\n",
    "            class_id = -1\n",
    "        else:\n",
    "            class_id = 1\n",
    "\n",
    "        train_data.extend(train[i])\n",
    "        train_class.extend([class_id for j in train[i]])\n",
    "        test_data.extend(test[i])\n",
    "        test_class.extend([class_id for j in test[i]])\n",
    "        \n",
    "    return np.asarray(train_data),np.asarray(train_class), np.asarray(test_data), np.asarray(test_class)\n",
    "\n",
    "\n"
   ]
  },
  {
   "cell_type": "code",
   "execution_count": 120,
   "metadata": {
    "collapsed": true
   },
   "outputs": [],
   "source": [
    "def create_train_test_data_one_v_one(digit_1,digit_2,train,test):\n",
    "    train_data = []\n",
    "    train_class = []\n",
    "    test_data = []\n",
    "    test_class = []\n",
    "    \n",
    "    for i in range(10):\n",
    "        if i == digit_1:\n",
    "            class_id = -1\n",
    "        elif i == digit_2:\n",
    "            class_id = 1\n",
    "        else:\n",
    "            continue\n",
    "\n",
    "        train_data.extend(train[i])\n",
    "        train_class.extend([class_id for j in train[i]])\n",
    "        test_data.extend(test[i])\n",
    "        test_class.extend([class_id for j in test[i]])\n",
    "        \n",
    "    return np.asarray(train_data),np.asarray(train_class), np.asarray(test_data), np.asarray(test_class)\n",
    "\n"
   ]
  },
  {
   "cell_type": "code",
   "execution_count": 121,
   "metadata": {},
   "outputs": [
    {
     "name": "stdout",
     "output_type": "stream",
     "text": [
      "Digit: 0\n",
      "E_in: 0.119050884652\n",
      "E_out: 0.128550074738\n",
      "Support vectors: 2278\n",
      "Digit: 1\n",
      "E_in: 0.0142641612947\n",
      "E_out: 0.0224215246637\n",
      "Support vectors: 400\n",
      "Digit: 2\n",
      "E_in: 0.100260595254\n",
      "E_out: 0.0986547085202\n",
      "Support vectors: 1464\n",
      "Digit: 3\n",
      "E_in: 0.0902482512687\n",
      "E_out: 0.0827105132038\n",
      "Support vectors: 1320\n",
      "Digit: 4\n",
      "E_in: 0.0894253188863\n",
      "E_out: 0.0996512207275\n",
      "Support vectors: 1307\n",
      "Digit: 5\n",
      "E_in: 0.0762584007681\n",
      "E_out: 0.079720976582\n",
      "Support vectors: 1117\n",
      "Digit: 6\n",
      "E_in: 0.0910711836511\n",
      "E_out: 0.0847035376183\n",
      "Support vectors: 1330\n",
      "Digit: 7\n",
      "E_in: 0.0884652311068\n",
      "E_out: 0.0732436472347\n",
      "Support vectors: 1293\n",
      "Digit: 8\n",
      "E_in: 0.0743382252092\n",
      "E_out: 0.0827105132038\n",
      "Support vectors: 1091\n",
      "Digit: 9\n",
      "E_in: 0.0883280757098\n",
      "E_out: 0.0881913303438\n",
      "Support vectors: 1290\n"
     ]
    }
   ],
   "source": [
    "#x vs all experiments for each digit x\n",
    "C = 0.01\n",
    "kernel = 'poly'\n",
    "degree = 2\n",
    "e_ins = []\n",
    "e_outs = []\n",
    "support_vecs = []\n",
    "for digit in range(10):\n",
    "    print('Digit: '+str(digit))\n",
    "    train_data,train_class,test_data,test_class = create_train_test_data_one_v_all(digit,train,test)\n",
    "    e_in, e_out, n_support_vecs =  soft_margin_svm(train_data,train_class,test_data,test_class,C,kernel,degree=degree)\n",
    "    e_ins.append(e_in)\n",
    "    e_outs.append(e_out)\n",
    "    support_vecs.append(n_support_vecs)\n",
    "    print('E_in: '+str(e_in))\n",
    "    print('E_out: '+str(e_out))\n",
    "    print('Support vectors: '+str(n_support_vecs))\n",
    "    "
   ]
  },
  {
   "cell_type": "code",
   "execution_count": 122,
   "metadata": {},
   "outputs": [
    {
     "name": "stdout",
     "output_type": "stream",
     "text": [
      "C: 0.0001, Q: 2\n",
      "E_in: 0.0102498398463\n",
      "E_out: 0.0165094339623\n",
      "Support vectors: 244\n",
      "C: 0.0001, Q: 5\n",
      "E_in: 0.00448430493274\n",
      "E_out: 0.0165094339623\n",
      "Support vectors: 26\n",
      "C: 0.001, Q: 2\n",
      "E_in: 0.00448430493274\n",
      "E_out: 0.0165094339623\n",
      "Support vectors: 80\n",
      "C: 0.001, Q: 5\n",
      "E_in: 0.00448430493274\n",
      "E_out: 0.0165094339623\n",
      "Support vectors: 26\n",
      "C: 0.01, Q: 2\n",
      "E_in: 0.00448430493274\n",
      "E_out: 0.0188679245283\n",
      "Support vectors: 34\n",
      "C: 0.01, Q: 5\n",
      "E_in: 0.00512491992313\n",
      "E_out: 0.0165094339623\n",
      "Support vectors: 27\n",
      "C: 0.1, Q: 2\n",
      "E_in: 0.00448430493274\n",
      "E_out: 0.0188679245283\n",
      "Support vectors: 24\n",
      "C: 0.1, Q: 5\n",
      "E_in: 0.00448430493274\n",
      "E_out: 0.0188679245283\n",
      "Support vectors: 24\n",
      "C: 1, Q: 2\n",
      "E_in: 0.00384368994234\n",
      "E_out: 0.0188679245283\n",
      "Support vectors: 24\n",
      "C: 1, Q: 5\n",
      "E_in: 0.00448430493274\n",
      "E_out: 0.0165094339623\n",
      "Support vectors: 24\n"
     ]
    }
   ],
   "source": [
    "#1 vs 5 experiments\n",
    "kernel = 'poly'\n",
    "degree = 2\n",
    "digit_1 = 1\n",
    "digit_2 = 5\n",
    "train_data,train_class,test_data,test_class = create_train_test_data_one_v_one(digit_1,digit_2, train,test)\n",
    "for C in [.0001,.001,.01,.1,1]:\n",
    "    for degree in [2,5]:\n",
    "        print('C: '+str(C)+', Q: '+str(degree))\n",
    "        e_in, e_out, n_support_vecs =  soft_margin_svm(train_data,train_class,test_data,test_class,C,kernel,degree=degree)\n",
    "        print('E_in: '+str(e_in))\n",
    "        print('E_out: '+str(e_out))\n",
    "        print('Support vectors: '+str(n_support_vecs))\n"
   ]
  },
  {
   "cell_type": "code",
   "execution_count": 124,
   "metadata": {},
   "outputs": [
    {
     "name": "stdout",
     "output_type": "stream",
     "text": [
      "Selected C: 0.01\n",
      "Average error: 0.00461273068757\n",
      "[1, 2, 3, 4]\n"
     ]
    }
   ],
   "source": [
    "#Cross validation in 1 vs. 5\n",
    "kernel = 'poly'\n",
    "degree = 2\n",
    "digit_1 = 1\n",
    "digit_2 = 5\n",
    "cv_train_data,cv_train_class,cv_test_data,cv_test_class = create_train_test_data_one_v_one(digit_1,digit_2, train,test)\n",
    "kf = KFold(n_splits=10, shuffle=True)\n",
    "kf.get_n_splits(train_data)\n",
    "all_errors = []\n",
    "selections = []\n",
    "Cs = [0.0001, 0.001, 0.01, 0.1, 1]\n",
    "for i in range(100):\n",
    "    c_errors = []\n",
    "    for C in Cs:\n",
    "        done = False\n",
    "        errors = []\n",
    "        while len(errors) < 10:\n",
    "            errors = []\n",
    "            for train_index, test_index in kf.split(cv_train_data):\n",
    "                train_data = cv_train_data[train_index]\n",
    "                train_class = cv_train_class[train_index]\n",
    "                if len(list(set(train_class))) < 2:\n",
    "                    continue\n",
    "                test_data = cv_train_data[test_index]\n",
    "                test_class = cv_train_class[test_index]\n",
    "                e_in, e_out, n_support_vecs =  soft_margin_svm(train_data,train_class,test_data,test_class,C,kernel,degree=degree)\n",
    "                errors.append(e_out)\n",
    "        c_errors.append(np.mean(errors))\n",
    "    selections.append(np.argmin(c_errors))\n",
    "    all_errors.append(c_errors)\n",
    "selected_idx = int(np.median(selections))\n",
    "print('Selected C: '+str(Cs[selected_idx]))\n",
    "print('Average error: '+str(np.mean([i[selected_idx] for i in all_errors])))\n",
    "print(list(set(selections)))\n",
    "    \n"
   ]
  },
  {
   "cell_type": "code",
   "execution_count": 125,
   "metadata": {},
   "outputs": [
    {
     "name": "stdout",
     "output_type": "stream",
     "text": [
      "C: 0.01\n",
      "E_in: 0.00384368994234\n",
      "E_out: 0.0235849056604\n",
      "Support vectors: 403\n",
      "C: 1\n",
      "E_in: 0.00448430493274\n",
      "E_out: 0.0212264150943\n",
      "Support vectors: 31\n",
      "C: 100\n",
      "E_in: 0.00320307495195\n",
      "E_out: 0.0188679245283\n",
      "Support vectors: 22\n",
      "C: 10000\n",
      "E_in: 0.00256245996156\n",
      "E_out: 0.0235849056604\n",
      "Support vectors: 20\n",
      "C: 1000000\n",
      "E_in: 0.000640614990391\n",
      "E_out: 0.0235849056604\n",
      "Support vectors: 17\n"
     ]
    }
   ],
   "source": [
    "#1 vs 5 experiments\n",
    "kernel = 'rbf'\n",
    "train_data,train_class,test_data,test_class = create_train_test_data_one_v_one(digit_1,digit_2, train,test)\n",
    "for C in [.01,1,100,10**4, 10**6]:\n",
    "    print('C: '+str(C))\n",
    "    e_in, e_out, n_support_vecs =  soft_margin_svm(train_data,train_class,test_data,test_class,C,kernel)\n",
    "    print('E_in: '+str(e_in))\n",
    "    print('E_out: '+str(e_out))\n",
    "    print('Support vectors: '+str(n_support_vecs))"
   ]
  },
  {
   "cell_type": "code",
   "execution_count": null,
   "metadata": {
    "collapsed": true
   },
   "outputs": [],
   "source": []
  }
 ],
 "metadata": {
  "kernelspec": {
   "display_name": "Python 2",
   "language": "python",
   "name": "python2"
  },
  "language_info": {
   "codemirror_mode": {
    "name": "ipython",
    "version": 2
   },
   "file_extension": ".py",
   "mimetype": "text/x-python",
   "name": "python",
   "nbconvert_exporter": "python",
   "pygments_lexer": "ipython2",
   "version": "2.7.13"
  }
 },
 "nbformat": 4,
 "nbformat_minor": 2
}
