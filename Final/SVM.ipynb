{
 "cells": [
  {
   "cell_type": "code",
   "execution_count": 1,
   "metadata": {
    "collapsed": true
   },
   "outputs": [],
   "source": [
    "import numpy as np\n",
    "import random\n",
    "import matplotlib.pyplot as plt\n",
    "import sklearn.svm as svm\n",
    "from sklearn.model_selection import KFold"
   ]
  },
  {
   "cell_type": "code",
   "execution_count": 2,
   "metadata": {
    "collapsed": true
   },
   "outputs": [],
   "source": [
    "def get_data():\n",
    "    x1 = [1,0]\n",
    "    y1 = -1\n",
    "    x2 = [0,1]\n",
    "    y2 = -1\n",
    "    x3 = [0,-1]\n",
    "    y3 = -1\n",
    "    x4 = [-1,0]\n",
    "    y4 = 1\n",
    "    x5 = [0,2]\n",
    "    y5 = 1\n",
    "    x6 = [0,-2]\n",
    "    y6 = 1\n",
    "    x7 = [-2,0]\n",
    "    y7 = 1\n",
    "    \n",
    "    X = np.asarray([x1,x2,x3,x4,x5,x6,x7])\n",
    "    y = np.asarray([y1,y2,y3,y4,y5,y6,y7])\n",
    "    return  X,y"
   ]
  },
  {
   "cell_type": "code",
   "execution_count": 3,
   "metadata": {
    "collapsed": true
   },
   "outputs": [],
   "source": [
    "def nonlinear_tform(X):\n",
    "    new_X = []\n",
    "    for x in X:\n",
    "        x1 = x[0]\n",
    "        x2 = x[1]\n",
    "        new_x = [x2**2 - 2*x1 - 1, x1**2 - 2*x2 + 1]\n",
    "        new_X.append(new_x)\n",
    "    return np.asarray(new_X)"
   ]
  },
  {
   "cell_type": "code",
   "execution_count": 4,
   "metadata": {
    "collapsed": true
   },
   "outputs": [],
   "source": [
    "def get_misclassified_point_idx(a,b):\n",
    "    idx = []\n",
    "    for i in range(len(a)):\n",
    "        if a[i] != b[i]:\n",
    "            idx.append(i)\n",
    "    return idx"
   ]
  },
  {
   "cell_type": "code",
   "execution_count": 5,
   "metadata": {
    "collapsed": true
   },
   "outputs": [],
   "source": [
    "def soft_margin_svm(train_data,train_class,test_data,test_class,C,kernel,degree=None):\n",
    "    if kernel is 'poly':\n",
    "        clf = svm.SVC(C = C, kernel = kernel, degree=degree, gamma=1,coef0 = 0)\n",
    "    else:\n",
    "        clf = svm.SVC(C = C, kernel = kernel,gamma=1)\n",
    "    clf.fit(train_data, train_class)\n",
    "    train_results = clf.predict(train_data)\n",
    "    idx = get_misclassified_point_idx(train_class,train_results)\n",
    "    e_in = len(idx)/float(len(train_class))\n",
    "    test_results = clf.predict(test_data)\n",
    "    idx = get_misclassified_point_idx(test_class,test_results)\n",
    "    e_out = len(idx)/float(len(test_class))\n",
    "    n_support_vecs = len(clf.support_)\n",
    "    \n",
    "    return e_in,e_out, n_support_vecs\n",
    "    "
   ]
  },
  {
   "cell_type": "code",
   "execution_count": 6,
   "metadata": {},
   "outputs": [
    {
     "name": "stdout",
     "output_type": "stream",
     "text": [
      "((7, 2), (7,))\n",
      "(7, 2)\n",
      "5\n"
     ]
    }
   ],
   "source": [
    "C = 1e10\n",
    "kernel = 'poly'\n",
    "degree = 2\n",
    "gamma = 1\n",
    "coef0 = 1\n",
    "\n",
    "X,y = get_data()\n",
    "print(X.shape, y.shape)\n",
    "Z = nonlinear_tform(X)\n",
    "print(Z.shape)\n",
    "\n",
    "clf = svm.SVC(C = C,kernel = kernel, degree=degree, gamma=gamma,coef0 = coef0)\n",
    "clf.fit(Z,y)\n",
    "print(len(clf.support_))"
   ]
  },
  {
   "cell_type": "code",
   "execution_count": null,
   "metadata": {
    "collapsed": true
   },
   "outputs": [],
   "source": []
  }
 ],
 "metadata": {
  "kernelspec": {
   "display_name": "Python 2",
   "language": "python",
   "name": "python2"
  },
  "language_info": {
   "codemirror_mode": {
    "name": "ipython",
    "version": 2
   },
   "file_extension": ".py",
   "mimetype": "text/x-python",
   "name": "python",
   "nbconvert_exporter": "python",
   "pygments_lexer": "ipython2",
   "version": "2.7.6"
  }
 },
 "nbformat": 4,
 "nbformat_minor": 2
}
