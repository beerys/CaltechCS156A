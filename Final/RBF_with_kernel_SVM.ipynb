{
 "cells": [
  {
   "cell_type": "code",
   "execution_count": 2,
   "metadata": {
    "collapsed": true
   },
   "outputs": [],
   "source": [
    "import numpy as np\n",
    "import random\n",
    "import matplotlib.pyplot as plt\n",
    "import sklearn.svm as svm\n",
    "from sklearn.model_selection import KFold\n",
    "import random\n",
    "from cvxopt import matrix, solvers\n",
    "solvers.options['show_progress'] = False\n"
   ]
  },
  {
   "cell_type": "code",
   "execution_count": 3,
   "metadata": {
    "collapsed": true
   },
   "outputs": [],
   "source": [
    "def get_points(num, minval = -1.0, maxval = 1.0, dim = 2):\n",
    "    points = np.asarray([[None for i in range(dim)] for j in range(num)])\n",
    "    for i in range(dim):\n",
    "        for j in range(num):\n",
    "            points[j,i] = random.uniform(minval, maxval)    \n",
    "    return np.asarray(points)"
   ]
  },
  {
   "cell_type": "code",
   "execution_count": 4,
   "metadata": {
    "collapsed": true
   },
   "outputs": [],
   "source": [
    "def get_class(datapoints):\n",
    "    y = np.zeros(len(datapoints))\n",
    "    for i,x in enumerate(datapoints):\n",
    "        x1 = x[0]\n",
    "        x2 = x[1]\n",
    "        val = x2 - x1 + 0.25*np.sin(np.pi*x1)\n",
    "        if val >= 0:\n",
    "            y[i] = 1\n",
    "        else:\n",
    "            y[i] = -1\n",
    "    return y"
   ]
  },
  {
   "cell_type": "code",
   "execution_count": 5,
   "metadata": {
    "collapsed": true
   },
   "outputs": [],
   "source": [
    "def get_misclassified_point_idx(a,b):\n",
    "    idx = []\n",
    "    for i in range(len(a)):\n",
    "        if a[i] != b[i]:\n",
    "            idx.append(i)\n",
    "    return idx"
   ]
  },
  {
   "cell_type": "code",
   "execution_count": 6,
   "metadata": {
    "collapsed": true
   },
   "outputs": [],
   "source": [
    "def rbf_kernel(x1,x2,gamma):\n",
    "    norm = np.linalg.norm(x1-x2)\n",
    "    kernel_val = np.exp(-gamma*norm**2)\n",
    "    return kernel_val"
   ]
  },
  {
   "cell_type": "code",
   "execution_count": 7,
   "metadata": {
    "collapsed": true
   },
   "outputs": [],
   "source": [
    "def build_rbf_matrix(X,y,gamma):\n",
    "    rbf_matrix = np.zeros([len(y),len(y)])\n",
    "    for i, x_i in enumerate(X):\n",
    "        for j, x_j in enumerate(X):\n",
    "            rbf_matrix[i,j] = y[i]*y[j]*rbf_kernel(x_i,x_j,gamma)\n",
    "    return np.asarray(rbf_matrix)"
   ]
  },
  {
   "cell_type": "code",
   "execution_count": 8,
   "metadata": {
    "collapsed": true
   },
   "outputs": [],
   "source": [
    "def solve_for_b(alphas,X,y,gamma):\n",
    "    support_vecs = [i for i in range(len(alphas)) if alphas[i] > 0]\n",
    "#     print(len(support_vecs))\n",
    "    support_idx = random.choice(support_vecs)\n",
    "    kernel_sum = 0\n",
    "    for idx in support_vecs:\n",
    "        alpha = alphas[idx]\n",
    "        y_n = y[idx]\n",
    "        x_n = X[support_idx]\n",
    "        x_m = X[idx]\n",
    "        kernel_sum += alpha*y_n*rbf_kernel(x_n,x_m,gamma)\n",
    "    \n",
    "    b = y[support_idx] - kernel_sum\n",
    "\n",
    "    return b"
   ]
  },
  {
   "cell_type": "code",
   "execution_count": 28,
   "metadata": {
    "collapsed": true
   },
   "outputs": [],
   "source": [
    "def predict_rbf_with_b(test_X,X,y,alphas,gamma,b):\n",
    "    support_vecs = [i for i in range(len(alphas)) if alphas[i] > 0]\n",
    "    new_y = []\n",
    "    for x in test_X:\n",
    "        kernel_sum = 0\n",
    "        for idx in support_vecs:\n",
    "            alpha = alphas[idx]\n",
    "            y_n = y[idx]\n",
    "            x_m = x\n",
    "            x_n = X[idx]\n",
    "            kernel_sum += alpha*y_n*rbf_kernel(x_n,x_m,gamma)\n",
    "    \n",
    "        new_y.append(np.sign(kernel_sum + b))\n",
    "        \n",
    "    return np.asarray(new_y)\n"
   ]
  },
  {
   "cell_type": "code",
   "execution_count": 10,
   "metadata": {
    "collapsed": true
   },
   "outputs": [],
   "source": [
    "def solve_rbf_qp(X,y,gamma):\n",
    "    P = matrix(build_rbf_matrix(X,y,gamma))\n",
    "    q = matrix(-np.ones([len(y),1]))\n",
    "    A = matrix(y.reshape([1,len(y)]))\n",
    "    b = matrix(np.zeros([1,1]))\n",
    "    G = matrix(-np.eye(len(y)))\n",
    "    h = matrix(np.zeros([len(y)]))\n",
    "    sol=solvers.qp(P, q, G, h, A, b)\n",
    "    return sol"
   ]
  },
  {
   "cell_type": "code",
   "execution_count": 11,
   "metadata": {
    "collapsed": true
   },
   "outputs": [],
   "source": [
    "def hard_margin_svm_rbf(train_data,train_class,test_data,test_class,C,kernel,degree=None, gamma = 1, coef0 = 0):\n",
    "\n",
    "    sol = solve_rbf_qp(train_data,train_class,gamma)\n",
    "    alphas = sol['x']\n",
    "    #solve for b\n",
    "    b = solve_for_b(alphas,train_data,train_class,gamma)\n",
    "\n",
    "    train_results = predict_rbf_with_b(train_data,train_data,train_class,alphas,gamma,b)\n",
    "    idx = get_misclassified_point_idx(train_class,train_results)\n",
    "    e_in = len(idx)/float(len(train_class))\n",
    "    test_results = predict_rbf_with_b(test_data,train_data,train_class,alphas,gamma,b)\n",
    "    idx = get_misclassified_point_idx(test_class,test_results)\n",
    "    e_out = len(idx)/float(len(test_class))\n",
    "    \n",
    "    n_support_vecs = len([i for i in range(len(alphas)) if alphas[i] > 0])\n",
    "\n",
    "    return e_in,e_out, n_support_vecs\n",
    "    "
   ]
  },
  {
   "cell_type": "code",
   "execution_count": 12,
   "metadata": {
    "collapsed": true
   },
   "outputs": [],
   "source": [
    "def lloyds_algorithm(X,K):\n",
    "    #initialize centers\n",
    "    mu = get_points(K)\n",
    "    change = True\n",
    "    #iterate\n",
    "    while change == True:\n",
    "        mu_old = np.copy(mu)\n",
    "        #get clusters:\n",
    "        S = [[] for k in range(K)]\n",
    "        for idx,x in enumerate(X):\n",
    "            dist = [100 for k in range(K)]\n",
    "            for k in range(K):\n",
    "                dist[k] = np.linalg.norm(mu[k]-x)\n",
    "            closest = np.argmin(dist)\n",
    "            S[closest].append(idx)\n",
    "        #update centers\n",
    "        for k in range(K):\n",
    "            mu[k] = [np.mean(X[S[k],0]),np.mean(X[S[k],1])]\n",
    "        if (mu == mu_old).all:\n",
    "            change = False\n",
    "    return S, mu\n",
    "    "
   ]
  },
  {
   "cell_type": "code",
   "execution_count": 13,
   "metadata": {
    "collapsed": true
   },
   "outputs": [],
   "source": [
    "def linear_regression(X, y):\n",
    "#     X_plus = np.linalg.inv(X.transpose().dot(X)).dot(X.transpose())\n",
    "    X_plus = np.linalg.pinv(X)\n",
    "    w = X_plus.dot(y)\n",
    "    return(w)"
   ]
  },
  {
   "cell_type": "code",
   "execution_count": 14,
   "metadata": {
    "collapsed": true
   },
   "outputs": [],
   "source": [
    "def get_phi(X,mu,gamma, bias=True):\n",
    "    phi = []\n",
    "    for x in X:\n",
    "        row = []\n",
    "        if bias:\n",
    "            row.append(1)\n",
    "        for mu_k in mu:\n",
    "            row.append(np.exp(-gamma*np.linalg.norm(x-mu_k)**2))\n",
    "        phi.append(row)\n",
    "    return(np.asarray(phi))\n",
    "        "
   ]
  },
  {
   "cell_type": "code",
   "execution_count": 15,
   "metadata": {
    "collapsed": true
   },
   "outputs": [],
   "source": [
    "def get_rbf_prediction(X,w,phi):\n",
    "    y_val = phi.dot(w)\n",
    "    y = np.sign(y_val)\n",
    "    return y"
   ]
  },
  {
   "cell_type": "code",
   "execution_count": 27,
   "metadata": {
    "collapsed": true
   },
   "outputs": [],
   "source": [
    "def predict_rbf_with_b_lloyd(test_X,mu,w,gamma):\n",
    "    new_y = []\n",
    "    b = w[0]\n",
    "    for x in test_X:\n",
    "        kernel_sum = 0\n",
    "        for k,w_k in enumerate(w[1:]):\n",
    "            mu_k = mu[k]\n",
    "            kernel_sum += w_k*rbf_kernel(x,mu_k,gamma)\n",
    "        new_y.append(np.sign(kernel_sum + b))\n",
    "        \n",
    "    return np.asarray(new_y)\n"
   ]
  },
  {
   "cell_type": "code",
   "execution_count": 17,
   "metadata": {
    "collapsed": true
   },
   "outputs": [],
   "source": [
    "def rbf(X,y,test_X,test_y,K,gamma= 1, plot = False):\n",
    "    S,mu = lloyds_algorithm(X,K)\n",
    "    if plot:\n",
    "        for k in range(K):\n",
    "            plt.plot(X[S[k],0],X[S[k],1],'.', color='C'+str(k % 10))\n",
    "            plt.plot(mu[k][0],mu[k][1], color='C'+str(k % 10), marker='*',markersize=10)\n",
    "        plt.title(\"Clusters from Lloyd's Algorithm\")\n",
    "        plt.savefig('lloyd_clusters.jpg',dpi=100)\n",
    "        plt.show()\n",
    "    \n",
    "    phi = get_phi(X,mu,gamma,bias=True)\n",
    "    w = linear_regression(phi,y)\n",
    "#     y_pred = get_rbf_prediction(X,w,phi)\n",
    "    y_pred = predict_rbf_with_b_lloyd(X,mu,w,gamma)\n",
    "    e_in = len(get_misclassified_point_idx(y,y_pred))/float(len(y))\n",
    "    \n",
    "#     test_y_pred = get_rbf_prediction(test_X,w,phi)\n",
    "    test_y_pred = predict_rbf_with_b_lloyd(test_X,mu,w,gamma)\n",
    "    e_out = len(get_misclassified_point_idx(test_y,test_y_pred))/float(len(test_y))\n",
    "    \n",
    "    return e_in, e_out, S"
   ]
  },
  {
   "cell_type": "code",
   "execution_count": 18,
   "metadata": {
    "collapsed": true
   },
   "outputs": [],
   "source": [
    "def plot_data(X,y):\n",
    "    plt.plot(X[y>=0,0],X[y>=0,1],'.r')\n",
    "    plt.plot(X[y<0,0],X[y<0,1],'.b')\n",
    "    plt.show()\n",
    "              \n"
   ]
  },
  {
   "cell_type": "code",
   "execution_count": 19,
   "metadata": {
    "collapsed": true
   },
   "outputs": [],
   "source": [
    "def add_bias(X):\n",
    "    new_X = []\n",
    "    for x in X:\n",
    "        x1 = x[0]\n",
    "        x2 = x[1]\n",
    "        new_x = [1, x1, x2]\n",
    "        new_X.append(new_x)\n",
    "    new_X = np.asarray(new_X)\n",
    "#     print(new_X.shape)\n",
    "    return new_X"
   ]
  },
  {
   "cell_type": "code",
   "execution_count": 32,
   "metadata": {},
   "outputs": [
    {
     "name": "stdout",
     "output_type": "stream",
     "text": [
      "0.0\n",
      "0.036\n",
      "0.028\n",
      "0.048\n",
      "0.6\n",
      "67.1\n",
      "0.761904761905\n"
     ]
    }
   ],
   "source": [
    "num_total_runs = 100\n",
    "N = 100\n",
    "N_test = 100\n",
    "C = 1e20\n",
    "kernel = 'rbf'\n",
    "K = 9\n",
    "gamma = 1.5\n",
    "\n",
    "svm_e_ins = []\n",
    "svm_e_outs = []\n",
    "n_supports = []\n",
    "lloyd_e_ins = []\n",
    "lloyd_e_outs = []\n",
    "num_not_separable = 0\n",
    "num_runs = 0\n",
    "while num_runs < num_total_runs:\n",
    "    X = get_points(N)\n",
    "    y = get_class(X)\n",
    "    test_X = get_points(N_test)\n",
    "    test_y = get_class(test_X)\n",
    "    svm_e_in, svm_e_out, n_support_vecs =  hard_margin_svm_rbf(X,y,test_X,test_y,C,kernel,gamma = gamma)\n",
    "    if svm_e_in != 0:\n",
    "        num_not_separable += 1\n",
    "    else:\n",
    "#         print(svm_e_out)\n",
    "        lloyd_e_in, lloyd_e_out, clusters = rbf(X,y,test_X,test_y,K,gamma=gamma)\n",
    "#         print(lloyd_e_out)\n",
    "        if min([len(clusters[k]) for k in range(K)]) > 0:\n",
    "            #keep the run\n",
    "            num_runs += 1\n",
    "            svm_e_ins.append(svm_e_in)\n",
    "            svm_e_outs.append(svm_e_out)\n",
    "            n_supports.append(n_support_vecs)\n",
    "            lloyd_e_ins.append(lloyd_e_in)\n",
    "            lloyd_e_outs.append(lloyd_e_out)\n",
    "\n",
    "print(np.mean(svm_e_ins))\n",
    "print(np.mean(svm_e_outs))\n",
    "print(np.mean(lloyd_e_ins))\n",
    "print(np.mean(lloyd_e_outs))\n",
    "print(len([i for i in range(len(svm_e_outs)) if svm_e_outs[i]<lloyd_e_outs[i]])/float(num_runs))\n",
    "print(np.mean(n_supports))\n",
    "print(num_not_separable/float(num_not_separable + num_total_runs))"
   ]
  },
  {
   "cell_type": "code",
   "execution_count": 33,
   "metadata": {},
   "outputs": [
    {
     "name": "stdout",
     "output_type": "stream",
     "text": [
      "0.0\n",
      "0.059\n",
      "0.02\n",
      "0.048\n",
      "0.3\n",
      "80.1\n",
      "0.803921568627\n"
     ]
    }
   ],
   "source": [
    "num_total_runs = 10\n",
    "N = 100\n",
    "N_test = 100\n",
    "C = 1e10\n",
    "kernel = 'rbf'\n",
    "K = 12\n",
    "gamma = 1.5\n",
    "\n",
    "svm_e_ins = []\n",
    "svm_e_outs = []\n",
    "n_supports = []\n",
    "lloyd_e_ins = []\n",
    "lloyd_e_outs = []\n",
    "num_not_separable = 0\n",
    "num_runs = 0\n",
    "while num_runs < num_total_runs:\n",
    "    X = get_points(N)\n",
    "    y = get_class(X)\n",
    "#     plot_data(X,y)\n",
    "    test_X = get_points(N_test)\n",
    "    test_y = get_class(test_X)\n",
    "    svm_e_in, svm_e_out, n_support_vecs =  hard_margin_svm_rbf(X,y,test_X,test_y,C,kernel,gamma = gamma)\n",
    "    if svm_e_in != 0:\n",
    "        num_not_separable += 1\n",
    "    else:\n",
    "        lloyd_e_in, lloyd_e_out, clusters = rbf(X,y,test_X,test_y,K,gamma=gamma)\n",
    "        if min([len(clusters[k]) for k in range(K)]) > 0:\n",
    "            #keep the run\n",
    "            num_runs += 1\n",
    "            svm_e_ins.append(svm_e_in)\n",
    "            svm_e_outs.append(svm_e_out)\n",
    "            n_supports.append(n_support_vecs)\n",
    "            lloyd_e_ins.append(lloyd_e_in)\n",
    "            lloyd_e_outs.append(lloyd_e_out)\n",
    "\n",
    "print(np.mean(svm_e_ins))\n",
    "print(np.mean(svm_e_outs))\n",
    "print(np.mean(lloyd_e_ins))\n",
    "print(np.mean(lloyd_e_outs))\n",
    "print(len([i for i in range(len(svm_e_outs)) if svm_e_outs[i]<lloyd_e_outs[i]])/float(num_runs))\n",
    "print(np.mean(n_supports))\n",
    "print(num_not_separable/float(num_not_separable + num_total_runs))\n"
   ]
  },
  {
   "cell_type": "code",
   "execution_count": 156,
   "metadata": {},
   "outputs": [
    {
     "data": {
      "text/plain": [
       "80.239999999999995"
      ]
     },
     "execution_count": 156,
     "metadata": {},
     "output_type": "execute_result"
    }
   ],
   "source": [
    "np.mean(n_supports)"
   ]
  },
  {
   "cell_type": "code",
   "execution_count": 155,
   "metadata": {},
   "outputs": [
    {
     "data": {
      "image/png": "[encoded data removed]",
      "text/plain": [
       "<matplotlib.figure.Figure at 0x113e67210>"
      ]
     },
     "metadata": {},
     "output_type": "display_data"
    }
   ],
   "source": [
    "e_in,e_out,clusters = rbf(X,y,test_X,test_y,9,gamma=1.5,plot=True)"
   ]
  },
  {
   "cell_type": "code",
   "execution_count": 106,
   "metadata": {},
   "outputs": [
    {
     "data": {
      "image/png": "[encoded data removed]",
      "text/plain": [
       "<matplotlib.figure.Figure at 0x117453d50>"
      ]
     },
     "metadata": {},
     "output_type": "display_data"
    }
   ],
   "source": [
    "e_in,e_out,clusters = rbf(X,y,test_X,test_y,12,gamma=1.5,plot=True)"
   ]
  },
  {
   "cell_type": "code",
   "execution_count": null,
   "metadata": {
    "collapsed": true
   },
   "outputs": [],
   "source": []
  }
 ],
 "metadata": {
  "kernelspec": {
   "display_name": "Python 2",
   "language": "python",
   "name": "python2"
  },
  "language_info": {
   "codemirror_mode": {
    "name": "ipython",
    "version": 2
   },
   "file_extension": ".py",
   "mimetype": "text/x-python",
   "name": "python",
   "nbconvert_exporter": "python",
   "pygments_lexer": "ipython2",
   "version": "2.7.6"
  }
 },
 "nbformat": 4,
 "nbformat_minor": 2
}
