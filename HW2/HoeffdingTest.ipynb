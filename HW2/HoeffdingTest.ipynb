{
 "cells": [
  {
   "cell_type": "code",
   "execution_count": 1,
   "metadata": {
    "collapsed": true
   },
   "outputs": [],
   "source": [
    "import random\n",
    "import numpy as np"
   ]
  },
  {
   "cell_type": "code",
   "execution_count": 5,
   "metadata": {},
   "outputs": [],
   "source": [
    "def flip_coins(num_coins):\n",
    "    coin_flips = []\n",
    "    for i in range(num_coins):\n",
    "        flip = random.random()\n",
    "        if flip > 0.5:\n",
    "            coin_flips.append(1)\n",
    "        else:\n",
    "            coin_flips.append(0)         \n",
    "    return coin_flips"
   ]
  },
  {
   "cell_type": "code",
   "execution_count": 20,
   "metadata": {
    "collapsed": true
   },
   "outputs": [],
   "source": [
    "def flip_all(num_iter, num_coins):\n",
    "    all_coin_flips = []\n",
    "    for i in range(num_iter):\n",
    "        all_coin_flips.append(flip_coins(num_coins))\n",
    "        \n",
    "    c1 = [flip[0] for flip in all_coin_flips]\n",
    "    idx = random.choice(list(range(num_coins)))\n",
    "    crand = [flip[idx] for flip in all_coin_flips]\n",
    "    num_heads = [0 for i in range(num_coins)]\n",
    "    for i in range(num_coins):\n",
    "        for j in range(num_iter):\n",
    "            num_heads[i] += all_coin_flips[j][i]\n",
    "    #print(np.min(num_heads))\n",
    "    cmin_idx = np.argmin(num_heads)\n",
    "    #print(cmin_idx)\n",
    "    cmin = [flip[cmin_idx] for flip in all_coin_flips]\n",
    "    return c1, crand, cmin"
   ]
  },
  {
   "cell_type": "code",
   "execution_count": 23,
   "metadata": {},
   "outputs": [],
   "source": [
    "num_iter = 10\n",
    "num_coins = 1000\n",
    "num_tests = 10000\n",
    "v1 = []\n",
    "vrand = []\n",
    "vmin = []\n",
    "for i in range(num_tests):\n",
    "    c1,crand,cmin = flip_all(num_iter, num_coins)\n",
    "    v1.append(float(sum(c1))/float(len(c1)))\n",
    "    vrand.append(float(sum(crand))/float(len(crand)))\n",
    "    vmin.append(float(sum(cmin))/float(len(cmin)))"
   ]
  },
  {
   "cell_type": "code",
   "execution_count": 24,
   "metadata": {},
   "outputs": [
    {
     "name": "stdout",
     "output_type": "stream",
     "text": [
      "0.03808\n"
     ]
    }
   ],
   "source": [
    "print(np.mean(vmin))"
   ]
  },
  {
   "cell_type": "code",
   "execution_count": null,
   "metadata": {
    "collapsed": true
   },
   "outputs": [],
   "source": []
  }
 ],
 "metadata": {
  "kernelspec": {
   "display_name": "Python 2",
   "language": "python",
   "name": "python2"
  },
  "language_info": {
   "codemirror_mode": {
    "name": "ipython",
    "version": 2
   },
   "file_extension": ".py",
   "mimetype": "text/x-python",
   "name": "python",
   "nbconvert_exporter": "python",
   "pygments_lexer": "ipython2",
   "version": "2.7.13"
  }
 },
 "nbformat": 4,
 "nbformat_minor": 2
}
