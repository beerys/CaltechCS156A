{
 "cells": [
  {
   "cell_type": "code",
   "execution_count": 14,
   "metadata": {
    "collapsed": true
   },
   "outputs": [],
   "source": [
    "import numpy as np\n",
    "import random\n",
    "import matplotlib.pyplot as plt"
   ]
  },
  {
   "cell_type": "code",
   "execution_count": 37,
   "metadata": {
    "collapsed": true
   },
   "outputs": [],
   "source": [
    "def get_points(num, minval = -1.0, maxval = 1.0, dim = 2):\n",
    "    points = np.asarray([[None for i in range(dim)] for j in range(num)])\n",
    "    for i in range(dim):\n",
    "        for j in range(num):\n",
    "            points[j,i] = random.uniform(minval, maxval)    \n",
    "    return points"
   ]
  },
  {
   "cell_type": "code",
   "execution_count": 22,
   "metadata": {
    "collapsed": true
   },
   "outputs": [],
   "source": [
    "def get_target_fn(points):\n",
    "    # y = mx + b\n",
    "    #returns m, b\n",
    "    x1 = points[0,0]\n",
    "    y1 = points[0,1]\n",
    "    x2 = points[1,0]\n",
    "    y2 = points[1,1]\n",
    "    m = (y2-y1)/(x2-x1)\n",
    "    b = y1 - m*(x1)\n",
    "    return m, b"
   ]
  },
  {
   "cell_type": "code",
   "execution_count": 17,
   "metadata": {
    "collapsed": true
   },
   "outputs": [],
   "source": [
    "def get_y(x,m,b):\n",
    "    return m*x + b"
   ]
  },
  {
   "cell_type": "code",
   "execution_count": 113,
   "metadata": {
    "collapsed": true
   },
   "outputs": [],
   "source": [
    "def init_weights(dim = 2):\n",
    "    w = np.zeros(dim+1)\n",
    "    return w"
   ]
  },
  {
   "cell_type": "code",
   "execution_count": 65,
   "metadata": {
    "collapsed": true
   },
   "outputs": [],
   "source": [
    "def eval_target_fn(datapoints,m,b):\n",
    "    y = np.zeros(len(datapoints))\n",
    "    for i in range(len(datapoints)):\n",
    "        if datapoints[i,1] < datapoints[i,0]*m + b:\n",
    "            y[i] = -1\n",
    "        else:\n",
    "            y[i] = 1\n",
    "    return y"
   ]
  },
  {
   "cell_type": "code",
   "execution_count": 105,
   "metadata": {
    "collapsed": true
   },
   "outputs": [],
   "source": [
    "def get_sign(vec):\n",
    "    sign = np.zeros(len(vec))\n",
    "    for i in range(len(vec)):\n",
    "        if vec[i] == 0:\n",
    "            sign[i] = 0.0\n",
    "        else:\n",
    "            if vec[i] < 0:\n",
    "                sign[i] = -1.0\n",
    "            else:\n",
    "                sign[i] = 1.0\n",
    "    return sign              "
   ]
  },
  {
   "cell_type": "code",
   "execution_count": 120,
   "metadata": {
    "collapsed": true
   },
   "outputs": [],
   "source": [
    "def get_misclassified_point_idx(sign, y):\n",
    "    idx = []\n",
    "    for i in range(len(sign)):\n",
    "        if sign[i] != y[i]:\n",
    "            idx.append(i)\n",
    "    return random.choice(idx)"
   ]
  },
  {
   "cell_type": "code",
   "execution_count": 83,
   "metadata": {
    "collapsed": true
   },
   "outputs": [],
   "source": [
    "def update_weights(w,x,y,idx):\n",
    "    w = w + y[idx]*x[idx]\n",
    "    return w\n",
    "    "
   ]
  },
  {
   "cell_type": "code",
   "execution_count": 92,
   "metadata": {
    "collapsed": true
   },
   "outputs": [],
   "source": [
    "def get_target(N,minval = -1.0, maxval = 1.0, dim = 2):\n",
    "    \n",
    "    target_fn_points = get_points(dim)\n",
    "    m, b  = get_target_fn(target_fn_points)\n",
    "    x = get_points(N)\n",
    "    y = eval_target_fn(x,m,b)\n",
    "    return m,b,x,y"
   ]
  },
  {
   "cell_type": "code",
   "execution_count": 86,
   "metadata": {
    "collapsed": true
   },
   "outputs": [],
   "source": [
    "def plot_target(m,b,x,y):\n",
    "    plt.plot((-1,1), (get_y(-1,m,b), get_y(1,m,b)))\n",
    "    plt.xlim([-1,1])\n",
    "    plt.ylim([-1,1])\n",
    "    neg_x = [x[i,0] for i in range(len(data[:,0])) if y[i] < 0]\n",
    "    pos_x = [x[i,0] for i in range(len(data[:,0])) if y[i] > 0]\n",
    "    neg_y = [x[i,1] for i in range(len(data[:,1])) if y[i] < 0]\n",
    "    pos_y = [x[i,1] for i in range(len(data[:,1])) if y[i] > 0]\n",
    "    plt.plot(neg_x, neg_y,'r*')\n",
    "    plt.plot(pos_x, pos_y,'b*')\n",
    "    plt.title('Target data')\n",
    "    plt.show()"
   ]
  },
  {
   "cell_type": "code",
   "execution_count": null,
   "metadata": {
    "collapsed": true
   },
   "outputs": [],
   "source": [
    "def plot_pla(m,b,x,y, iteration):\n",
    "    plt.plot((-1,1), (get_y(-1,m,b), get_y(1,m,b)), '--')\n",
    "    plt.xlim([-1,1])\n",
    "    plt.ylim([-1,1])\n",
    "    neg_x = [x[i,0] for i in range(len(data[:,0])) if y[i] < 0]\n",
    "    pos_x = [x[i,0] for i in range(len(data[:,0])) if y[i] > 0]\n",
    "    neg_y = [x[i,1] for i in range(len(data[:,1])) if y[i] < 0]\n",
    "    pos_y = [x[i,1] for i in range(len(data[:,1])) if y[i] > 0]\n",
    "    plt.plot(neg_x, neg_y,'r*')\n",
    "    plt.plot(pos_x, pos_y,'b*')\n",
    "    \n",
    "    plt.title('PLA iteration '+str(interation))\n",
    "    plt.show()"
   ]
  },
  {
   "cell_type": "code",
   "execution_count": 123,
   "metadata": {
    "collapsed": true
   },
   "outputs": [],
   "source": [
    "def PLA(N, threshold = 0.1, minval = -1.0, maxval = 1.0, dim = 2):\n",
    "    m,b,x,y = get_target(N)\n",
    "    w = init_weights()\n",
    "    print(w)\n",
    "    #score = 0\n",
    "    #while score < threshold:\n",
    "    print(x)\n",
    "    print(y)\n",
    "    vec = w.dot(x.transpose())\n",
    "    print(vec)\n",
    "    sign = get_sign(vec)\n",
    "    print(sign)\n",
    "    idx = get_misclassified_point_idx(sign,y)\n",
    "    w = update_weights(w,x,y,idx)\n",
    "    print(w)\n",
    "        "
   ]
  },
  {
   "cell_type": "code",
   "execution_count": 124,
   "metadata": {},
   "outputs": [
    {
     "name": "stdout",
     "output_type": "stream",
     "text": [
      "[ 0.  0.]\n",
      "[[0.1563796406633331 0.01283617743763621]\n",
      " [0.11987410197445225 0.25412065904722203]\n",
      " [-0.002176833102918607 0.20399869122701686]\n",
      " [0.9944059729887398 0.25840407561636725]\n",
      " [-0.5634641301358241 -0.7130688552611368]\n",
      " [0.12448879859273054 -0.8234398948169162]\n",
      " [-0.8632009857097336 0.21547856112402952]\n",
      " [0.44903591541961085 -0.7111488236233663]\n",
      " [-0.22684485417694655 -0.850001832844762]\n",
      " [0.8068128869727069 0.08954351320467002]]\n",
      "[-1. -1. -1. -1. -1. -1.  1. -1. -1. -1.]\n",
      "[0.0 0.0 0.0 0.0 -0.0 0.0 0.0 0.0 -0.0 0.0]\n",
      "[ 0.  0.  0.  0.  0.  0.  0.  0.  0.  0.]\n",
      "[-0.8632009857097336 0.21547856112402952]\n"
     ]
    }
   ],
   "source": [
    "N = 10\n",
    "iterations = 1000\n",
    "PLA(N)"
   ]
  },
  {
   "cell_type": "code",
   "execution_count": 91,
   "metadata": {},
   "outputs": [
    {
     "data": {
      "image/png": "[encoded data removed]",
      "text/plain": [
       "<matplotlib.figure.Figure at 0x10bf08690>"
      ]
     },
     "metadata": {},
     "output_type": "display_data"
    }
   ],
   "source": [
    "x,m,b,y = get_target(N)\n",
    "plot_target(x,m,b,y)"
   ]
  },
  {
   "cell_type": "code",
   "execution_count": null,
   "metadata": {},
   "outputs": [],
   "source": []
  },
  {
   "cell_type": "code",
   "execution_count": null,
   "metadata": {
    "collapsed": true
   },
   "outputs": [],
   "source": []
  }
 ],
 "metadata": {
  "kernelspec": {
   "display_name": "Python 2",
   "language": "python",
   "name": "python2"
  },
  "language_info": {
   "codemirror_mode": {
    "name": "ipython",
    "version": 2
   },
   "file_extension": ".py",
   "mimetype": "text/x-python",
   "name": "python",
   "nbconvert_exporter": "python",
   "pygments_lexer": "ipython2",
   "version": "2.7.13"
  }
 },
 "nbformat": 4,
 "nbformat_minor": 2
}
