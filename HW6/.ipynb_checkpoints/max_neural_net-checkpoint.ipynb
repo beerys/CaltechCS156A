{
 "cells": [
  {
   "cell_type": "code",
   "execution_count": 3,
   "metadata": {
    "collapsed": true
   },
   "outputs": [],
   "source": [
    "import numpy as np\n",
    "import matplotlib.pyplot as plt\n",
    "import json"
   ]
  },
  {
   "cell_type": "code",
   "execution_count": 17,
   "metadata": {
    "collapsed": true
   },
   "outputs": [],
   "source": [
    "N = 36\n",
    "in_layer = 10\n",
    "out_layer = 1"
   ]
  },
  {
   "cell_type": "code",
   "execution_count": 33,
   "metadata": {},
   "outputs": [
    {
     "name": "stdout",
     "output_type": "stream",
     "text": [
      "(510, [22, 14], 36)\n"
     ]
    }
   ],
   "source": [
    "#two layer networks\n",
    "max_val = 0\n",
    "max_layers = []\n",
    "for i in range(N):\n",
    "    weights = 10*(i) + (i+1)*(N-(i+1)-1) + (N-(i+1))\n",
    "    #print(weights,(i+1),(N-(i+1)))\n",
    "    if weights > max_val:\n",
    "        max_val = weights\n",
    "        max_layers = [(i+1),(N-(i+1))]\n",
    "print(max_val, max_layers, sum(max_layers))\n"
   ]
  },
  {
   "cell_type": "code",
   "execution_count": 34,
   "metadata": {},
   "outputs": [
    {
     "name": "stdout",
     "output_type": "stream",
     "text": [
      "(475, [22, 13, 1])\n"
     ]
    }
   ],
   "source": [
    "#three layer networks\n",
    "max_val = 0\n",
    "max_layers = []\n",
    "for i in range(N):\n",
    "    for j in range(N-(i+1)):\n",
    "        weights = 10*(i) + (i+1)*(j-1) + (j)*(N-j-(i+1)-1) + (N-j-(i+1))\n",
    "        if weights > max_val:\n",
    "            max_val = weights\n",
    "            max_layers = [(i+1),j,(N-j-(i+1))]\n",
    "print(max_val, max_layers)"
   ]
  }
 ],
 "metadata": {
  "kernelspec": {
   "display_name": "Python 2",
   "language": "python",
   "name": "python2"
  },
  "language_info": {
   "codemirror_mode": {
    "name": "ipython",
    "version": 2
   },
   "file_extension": ".py",
   "mimetype": "text/x-python",
   "name": "python",
   "nbconvert_exporter": "python",
   "pygments_lexer": "ipython2",
   "version": "2.7.13"
  }
 },
 "nbformat": 4,
 "nbformat_minor": 2
}
