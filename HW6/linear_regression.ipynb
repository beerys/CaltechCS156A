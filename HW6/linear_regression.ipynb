{
 "cells": [
  {
   "cell_type": "code",
   "execution_count": 55,
   "metadata": {
    "collapsed": true
   },
   "outputs": [],
   "source": [
    "import numpy as np\n",
    "from matplotlib import pyplot as plt\n",
    "from sklearn.linear_model import LinearRegression"
   ]
  },
  {
   "cell_type": "code",
   "execution_count": 66,
   "metadata": {
    "collapsed": true
   },
   "outputs": [],
   "source": [
    "in_data = []\n",
    "with open('in.dta','r') as f:\n",
    "    for line in f:\n",
    "        in_data.append([float(i) for i in line.split()])\n",
    "in_data = np.asarray(in_data)"
   ]
  },
  {
   "cell_type": "code",
   "execution_count": 67,
   "metadata": {
    "collapsed": true
   },
   "outputs": [],
   "source": [
    "out_data = []\n",
    "with open('out.dta','r') as f:\n",
    "    for line in f:\n",
    "        out_data.append([float(i) for i in line.split()])\n",
    "out_data = np.asarray(out_data)"
   ]
  },
  {
   "cell_type": "code",
   "execution_count": 69,
   "metadata": {},
   "outputs": [],
   "source": [
    "#print(out_data)"
   ]
  },
  {
   "cell_type": "code",
   "execution_count": 70,
   "metadata": {
    "collapsed": true
   },
   "outputs": [],
   "source": [
    "def nonlinear_transform(X):\n",
    "    new_X = []\n",
    "    for x in X:\n",
    "        x1 = x[0]\n",
    "        x2 = x[1]\n",
    "        new_x = [1, x1, x2, x1**2, x2**2, x1*x2, np.abs(x1-x2), np.abs(x1+x2)]\n",
    "        new_X.append(new_x)\n",
    "    return np.asarray(new_X)"
   ]
  },
  {
   "cell_type": "code",
   "execution_count": 71,
   "metadata": {
    "collapsed": true
   },
   "outputs": [],
   "source": [
    "def linear_regression(X, y):\n",
    "    X_plus = np.linalg.inv(X.transpose().dot(X)).dot(X.transpose())\n",
    "    w = X_plus.dot(y)\n",
    "    return(w)\n",
    "    "
   ]
  },
  {
   "cell_type": "code",
   "execution_count": 72,
   "metadata": {
    "collapsed": true
   },
   "outputs": [],
   "source": [
    "def linear_regression_weight_decay(X, y, l):\n",
    "    X_plus = np.linalg.inv(X.transpose().dot(X) + l*np.eye(X.shape[1])).dot(X.transpose())\n",
    "    w = X_plus.dot(y)\n",
    "    return(w)"
   ]
  },
  {
   "cell_type": "code",
   "execution_count": 73,
   "metadata": {
    "collapsed": true
   },
   "outputs": [],
   "source": [
    "def get_error(X, w, y):\n",
    "    err = 0\n",
    "    count = 0\n",
    "    for x in X:\n",
    "        err += (w.dot(x) - y[count])**2\n",
    "        count += 1\n",
    "    err = err/float(count)\n",
    "    return err"
   ]
  },
  {
   "cell_type": "code",
   "execution_count": 104,
   "metadata": {
    "collapsed": true
   },
   "outputs": [],
   "source": [
    "def get_classification_error(X, w, y):\n",
    "    correct_idx = []\n",
    "    count = 0\n",
    "    for x in X:\n",
    "        if np.sign(w.dot(x)) == y[count]:\n",
    "            correct_idx.append(count)\n",
    "        count += 1\n",
    "    class_err = 1-len(correct_idx)/float(count) \n",
    "    return class_err"
   ]
  },
  {
   "cell_type": "code",
   "execution_count": 105,
   "metadata": {
    "collapsed": true
   },
   "outputs": [],
   "source": [
    "def plot_target_in_x_space(x,y):\n",
    "    neg_x = [x[i,0] for i in range(len(x[:,0])) if y[i] < 0]\n",
    "    pos_x = [x[i,0] for i in range(len(x[:,0])) if y[i] > 0]\n",
    "    neg_y = [x[i,1] for i in range(len(x[:,1])) if y[i] < 0]\n",
    "    pos_y = [x[i,1] for i in range(len(x[:,1])) if y[i] > 0]\n",
    "    plt.plot(neg_x, neg_y,'r*')\n",
    "    plt.plot(pos_x, pos_y,'b*')\n",
    "    plt.title('Target data')\n",
    "    plt.show()"
   ]
  },
  {
   "cell_type": "code",
   "execution_count": 106,
   "metadata": {
    "collapsed": true
   },
   "outputs": [],
   "source": [
    "def plot_disagreement_in_x_space(X,y,Z,w):\n",
    "    correct_idx = []\n",
    "    count = 0\n",
    "    for x in Z:\n",
    "        if np.sign(w.dot(x)) == y[count]:\n",
    "            correct_idx.append(count)\n",
    "        count += 1\n",
    "    neg_x = [X[i,0] for i in range(len(X[:,0])) if i not in correct_idx]\n",
    "    pos_x = [X[i,0] for i in range(len(X[:,0])) if i in correct_idx]\n",
    "    neg_y = [X[i,1] for i in range(len(X[:,1])) if i not in correct_idx]\n",
    "    pos_y = [X[i,1] for i in range(len(X[:,1])) if i in correct_idx]\n",
    "    plt.plot(neg_x, neg_y,'g*', label = 'correct')\n",
    "    plt.plot(pos_x, pos_y,'y*', label = 'incorrect')\n",
    "    plt.title('Linear Regression misclassified points')\n",
    "    plt.xlabel('x_1')\n",
    "    plt.ylabel('x_2')\n",
    "    plt.legend()\n",
    "    plt.savefig('Linear_Regression_disagreement.jpg')\n",
    "    plt.show()"
   ]
  },
  {
   "cell_type": "code",
   "execution_count": 107,
   "metadata": {},
   "outputs": [
    {
     "name": "stdout",
     "output_type": "stream",
     "text": [
      "0.0285714285714\n",
      "0.084\n"
     ]
    }
   ],
   "source": [
    "#using my own implementation\n",
    "X = in_data[:,:2]\n",
    "y = in_data[:,2]\n",
    "#plot_target_in_x_space(X,y)\n",
    "Z = nonlinear_transform(X)\n",
    "#print(X.shape, y.shape, X[0,:], y[0])\n",
    "w = linear_regression(Z,y)\n",
    "in_sample_err = get_classification_error(Z,w,y)\n",
    "print(in_sample_err)\n",
    "#plot_disagreement_in_x_space(X,y,Z,w)\n",
    "test_X = out_data[:,:2]\n",
    "test_Z = nonlinear_transform(test_X)\n",
    "test_y = out_data[:,2]\n",
    "#plot_target_in_x_space(test_X,test_y)\n",
    "test_err = get_classification_error(test_Z,w,test_y)\n",
    "#plot_disagreement_in_x_space(test_X,test_y,test_Z,w)\n",
    "print(test_err)"
   ]
  },
  {
   "cell_type": "code",
   "execution_count": 112,
   "metadata": {},
   "outputs": [
    {
     "name": "stdout",
     "output_type": "stream",
     "text": [
      "0.0285714285714\n",
      "0.08\n"
     ]
    }
   ],
   "source": [
    "#using my own implementation, with weight decay\n",
    "k = -3\n",
    "l = 10**k\n",
    "X = in_data[:,:2]\n",
    "X = nonlinear_transform(X)\n",
    "y = in_data[:,2]\n",
    "#print(X.shape, y.shape, X[0,:], y[0])\n",
    "w = linear_regression_weight_decay(X,y,l)\n",
    "in_sample_err = get_classification_error(X,w,y)\n",
    "print(in_sample_err)\n",
    "test_X = nonlinear_transform(out_data[:,:2])\n",
    "test_y = out_data[:,2]\n",
    "test_err = get_classification_error(test_X,w,test_y)\n",
    "print(test_err)"
   ]
  },
  {
   "cell_type": "code",
   "execution_count": 109,
   "metadata": {},
   "outputs": [
    {
     "name": "stdout",
     "output_type": "stream",
     "text": [
      "0.371428571429\n",
      "0.436\n"
     ]
    }
   ],
   "source": [
    "#using my own implementation, with weight decay\n",
    "k = 3\n",
    "l = 10**k\n",
    "X = in_data[:,:2]\n",
    "X = nonlinear_transform(X)\n",
    "y = in_data[:,2]\n",
    "#print(X.shape, y.shape, X[0,:], y[0])\n",
    "w = linear_regression_weight_decay(X,y,l)\n",
    "in_sample_err = get_classification_error(X,w,y)\n",
    "print(in_sample_err)\n",
    "test_X = nonlinear_transform(out_data[:,:2])\n",
    "test_y = out_data[:,2]\n",
    "test_err = get_classification_error(test_X,w,test_y)\n",
    "print(test_err)"
   ]
  },
  {
   "cell_type": "code",
   "execution_count": 110,
   "metadata": {},
   "outputs": [
    {
     "name": "stdout",
     "output_type": "stream",
     "text": [
      "(2, 0.22799999999999998)\n",
      "(1, 0.124)\n",
      "(0, 0.09199999999999997)\n",
      "(-1, 0.05600000000000005)\n",
      "(-2, 0.08399999999999996)\n"
     ]
    }
   ],
   "source": [
    "#using my own implementation, with weight decay\n",
    "k = -2\n",
    "for k in [2,1,0,-1,-2]:\n",
    "    l = 10**k\n",
    "    X = in_data[:,:2]\n",
    "    X = nonlinear_transform(X)\n",
    "    y = in_data[:,2]\n",
    "    #print(X.shape, y.shape, X[0,:], y[0])\n",
    "    w = linear_regression_weight_decay(X,y,l)\n",
    "    in_sample_err = get_classification_error(X,w,y)\n",
    "    #print(in_sample_err)\n",
    "    test_X = nonlinear_transform(out_data[:,:2])\n",
    "    test_y = out_data[:,2]\n",
    "    test_err = get_classification_error(test_X,w,test_y)\n",
    "    print(k,test_err)"
   ]
  },
  {
   "cell_type": "code",
   "execution_count": null,
   "metadata": {
    "collapsed": true
   },
   "outputs": [],
   "source": []
  }
 ],
 "metadata": {
  "kernelspec": {
   "display_name": "Python 2",
   "language": "python",
   "name": "python2"
  },
  "language_info": {
   "codemirror_mode": {
    "name": "ipython",
    "version": 2
   },
   "file_extension": ".py",
   "mimetype": "text/x-python",
   "name": "python",
   "nbconvert_exporter": "python",
   "pygments_lexer": "ipython2",
   "version": "2.7.13"
  }
 },
 "nbformat": 4,
 "nbformat_minor": 2
}
