{
 "cells": [
  {
   "cell_type": "code",
   "execution_count": 41,
   "metadata": {
    "collapsed": true
   },
   "outputs": [],
   "source": [
    "import math\n",
    "from mpl_toolkits.mplot3d import Axes3D\n",
    "import matplotlib.pyplot as plt\n",
    "from matplotlib import cm\n",
    "from matplotlib.ticker import LinearLocator, FormatStrFormatter\n",
    "import numpy as np\n",
    "import random"
   ]
  },
  {
   "cell_type": "code",
   "execution_count": 42,
   "metadata": {
    "collapsed": true
   },
   "outputs": [],
   "source": [
    "def get_points(num, minval = -1.0, maxval = 1.0, dim = 2):\n",
    "    points = np.asarray([[None for i in range(dim)] for j in range(num)])\n",
    "    for i in range(dim):\n",
    "        for j in range(num):\n",
    "            points[j,i] = random.uniform(minval, maxval)    \n",
    "    return np.asarray(points)"
   ]
  },
  {
   "cell_type": "code",
   "execution_count": 43,
   "metadata": {
    "collapsed": true
   },
   "outputs": [],
   "source": [
    "def get_target_fn(points):\n",
    "    # y = mx + b\n",
    "    #returns m, b\n",
    "    x1 = points[0,0]\n",
    "    y1 = points[0,1]\n",
    "    x2 = points[1,0]\n",
    "    y2 = points[1,1]\n",
    "    m = (y2-y1)/(x2-x1)\n",
    "    b = y1 - m*(x1)\n",
    "    return m, b"
   ]
  },
  {
   "cell_type": "code",
   "execution_count": 44,
   "metadata": {
    "collapsed": true
   },
   "outputs": [],
   "source": [
    "def add_bias_to_x(x):\n",
    "    bias = np.ones(len(x[:,0]))\n",
    "    x = np.c_[x,bias]\n",
    "    return x"
   ]
  },
  {
   "cell_type": "code",
   "execution_count": 45,
   "metadata": {
    "collapsed": true
   },
   "outputs": [],
   "source": [
    "def eval_target_fn(datapoints,m,b):\n",
    "    y = np.zeros(len(datapoints))\n",
    "    for i in range(len(datapoints)):\n",
    "        if datapoints[i,1] < datapoints[i,0]*m + b:\n",
    "            y[i] = -1\n",
    "        else:\n",
    "            y[i] = 1\n",
    "    return y"
   ]
  },
  {
   "cell_type": "code",
   "execution_count": 46,
   "metadata": {
    "collapsed": true
   },
   "outputs": [],
   "source": [
    "def get_sign(vec):\n",
    "    sign = np.zeros(len(vec))\n",
    "    for i in range(len(vec)):\n",
    "        if vec[i] == 0:\n",
    "            sign[i] = 0.0\n",
    "        else:\n",
    "            if vec[i] < 0:\n",
    "                sign[i] = -1.0\n",
    "            else:\n",
    "                sign[i] = 1.0\n",
    "    return sign "
   ]
  },
  {
   "cell_type": "code",
   "execution_count": 47,
   "metadata": {
    "collapsed": true
   },
   "outputs": [],
   "source": [
    "def get_target(N,minval = -1.0, maxval = 1.0, dim = 2):\n",
    "    \n",
    "    target_fn_points = get_points(dim)\n",
    "    m, b  = get_target_fn(target_fn_points)\n",
    "    x = get_points(N)\n",
    "    y = eval_target_fn(x,m,b)\n",
    "    return m,b,x,y"
   ]
  },
  {
   "cell_type": "code",
   "execution_count": 48,
   "metadata": {
    "collapsed": true
   },
   "outputs": [],
   "source": [
    "def plot_target(m,b,x,y):\n",
    "    plt.plot((-1,1), (get_y(-1,m,b), get_y(1,m,b)))\n",
    "    plt.xlim([-1,1])\n",
    "    plt.ylim([-1,1])\n",
    "    neg_x = [x[i,0] for i in range(len(x[:,0])) if y[i] < 0]\n",
    "    pos_x = [x[i,0] for i in range(len(x[:,0])) if y[i] > 0]\n",
    "    neg_y = [x[i,1] for i in range(len(x[:,1])) if y[i] < 0]\n",
    "    pos_y = [x[i,1] for i in range(len(x[:,1])) if y[i] > 0]\n",
    "    plt.plot(neg_x, neg_y,'r*')\n",
    "    plt.plot(pos_x, pos_y,'b*')\n",
    "    plt.title('Target data')\n",
    "    plt.show()"
   ]
  },
  {
   "cell_type": "code",
   "execution_count": 157,
   "metadata": {},
   "outputs": [],
   "source": [
    "def plot_iter(m,b,x,y,w, iteration):\n",
    "    plt.plot((-1,1), (get_y(-1,m,b), get_y(1,m,b)),'g', label = 'target_fn')\n",
    "    print(w)\n",
    "    plt.plot((-1,1), ((w[0]-w[2])/w[1], (-w[0]-w[2])/w[1]),'c',label='learned_fn')\n",
    "    plt.xlim([-1,1])\n",
    "    plt.ylim([-1,1])\n",
    "    neg_x = [x[i,0] for i in range(len(x[:,0])) if w.dot(x[i,:].transpose()) <= 0]\n",
    "    pos_x = [x[i,0] for i in range(len(x[:,0])) if w.dot(x[i,:].transpose()) > 0]\n",
    "    neg_y = [x[i,1] for i in range(len(x[:,1])) if w.dot(x[i,:].transpose()) <= 0]\n",
    "    pos_y = [x[i,1] for i in range(len(x[:,1])) if w.dot(x[i,:].transpose()) > 0]\n",
    "    plt.plot(neg_x, neg_y,'r*')\n",
    "    plt.plot(pos_x, pos_y,'b*')\n",
    "    plt.title('Logistic Regression, iter. '+str(iteration))\n",
    "    plt.xlabel('x_1')\n",
    "    plt.ylabel('x_2')\n",
    "    plt.legend()\n",
    "    plt.savefig('Logistic_Regression.jpg')\n",
    "    plt.show()"
   ]
  },
  {
   "cell_type": "code",
   "execution_count": 85,
   "metadata": {
    "collapsed": true
   },
   "outputs": [],
   "source": [
    "def get_y(x,m,b):\n",
    "    return m*x + b"
   ]
  },
  {
   "cell_type": "code",
   "execution_count": 86,
   "metadata": {
    "collapsed": true
   },
   "outputs": [],
   "source": [
    "def init_weights(dim=2):\n",
    "    return np.zeros(dim+1)"
   ]
  },
  {
   "cell_type": "code",
   "execution_count": 87,
   "metadata": {
    "collapsed": true
   },
   "outputs": [],
   "source": [
    "def update_weights(w,x,y,idx):\n",
    "    w = w + y[idx]*x[idx]\n",
    "    return w\n",
    "    "
   ]
  },
  {
   "cell_type": "code",
   "execution_count": 88,
   "metadata": {
    "collapsed": true
   },
   "outputs": [],
   "source": [
    "def get_misclassified_point_idx(sign, y):\n",
    "    idx = []\n",
    "    for i in range(len(sign)):\n",
    "        if sign[i] != y[i]:\n",
    "            idx.append(i)\n",
    "    return idx"
   ]
  },
  {
   "cell_type": "code",
   "execution_count": 89,
   "metadata": {
    "collapsed": true
   },
   "outputs": [],
   "source": [
    "def estimate_disagreement(w, m, b, num_test_points = 100):\n",
    "    test_x = get_points(num_test_points)\n",
    "    test_y = eval_target_fn(test_x,m,b)\n",
    "    test_x = add_bias_to_x(test_x)\n",
    "    vec = w.dot(test_x.transpose())\n",
    "    sign = get_sign(vec)\n",
    "    idx = get_misclassified_point_idx(sign,test_y)\n",
    "    disagreement_prob = float(len(idx))/float(num_test_points)\n",
    "    return disagreement_prob\n",
    "    "
   ]
  },
  {
   "cell_type": "code",
   "execution_count": 139,
   "metadata": {},
   "outputs": [],
   "source": [
    "def logistic_regression_sgd(N, lr = 0.01,threshold = 0.01, minval = -1.0, maxval = 1.0, dim = 2, plot_fn = False):\n",
    "    m,b,x,y = get_target(N)\n",
    "    x = add_bias_to_x(x)\n",
    "    w = init_weights()\n",
    "    iter_count = 0\n",
    "    diff = 100\n",
    "    while diff > threshold: #while there are misclassified points\n",
    "        iter_count += 1\n",
    "        rand_N = list(range(N))\n",
    "        random.shuffle(rand_N)\n",
    "        w_prev = np.copy(w)\n",
    "        w_ = np.copy(w)\n",
    "        for n in rand_N:\n",
    "            #print(n)\n",
    "            x_n = x[n,:]\n",
    "            y_n = y[n]\n",
    "            err = (y_n*x_n)/(1+np.exp(y_n*np.dot(w_,x_n)))\n",
    "            w_ = w_ + lr*err\n",
    "        w = np.copy(w_)\n",
    "        diff = np.linalg.norm(w-w_prev)\n",
    "        \n",
    "    e_out = estimate_disagreement(w,m,b)\n",
    "    if plot_fn:\n",
    "        plot_iter(m,b,x,y,w,iter_count)\n",
    "    return iter_count, e_out\n",
    "        "
   ]
  },
  {
   "cell_type": "code",
   "execution_count": 137,
   "metadata": {},
   "outputs": [
    {
     "name": "stdout",
     "output_type": "stream",
     "text": [
      "100\n",
      "338.93\n",
      "0.0234\n"
     ]
    }
   ],
   "source": [
    "N = 100\n",
    "iterations = 100\n",
    "num_iters = []\n",
    "disagreement_probs = []\n",
    "for i in range(iterations):\n",
    "    iter_count, disagreement = logistic_regression_sgd(N)\n",
    "    num_iters.append(iter_count)\n",
    "    #print(iter_count)\n",
    "    disagreement_probs.append(disagreement)\n",
    "\n",
    "print(len(num_iters))\n",
    "print(np.mean(num_iters))\n",
    "print(np.mean(disagreement_probs))"
   ]
  },
  {
   "cell_type": "code",
   "execution_count": 160,
   "metadata": {},
   "outputs": [
    {
     "name": "stdout",
     "output_type": "stream",
     "text": [
      "[-8.178366450004003 1.5241806426943323 -3.212555981907816]\n"
     ]
    },
    {
     "data": {
      "image/png": "[encoded data removed]",
      "text/plain": [
       "<matplotlib.figure.Figure at 0x119007810>"
      ]
     },
     "metadata": {},
     "output_type": "display_data"
    }
   ],
   "source": [
    "iter_count, disagreement = logistic_regression_sgd(N, plot_fn=True)\n"
   ]
  },
  {
   "cell_type": "code",
   "execution_count": null,
   "metadata": {
    "collapsed": true
   },
   "outputs": [],
   "source": []
  },
  {
   "cell_type": "code",
   "execution_count": null,
   "metadata": {
    "collapsed": true
   },
   "outputs": [],
   "source": []
  }
 ],
 "metadata": {
  "kernelspec": {
   "display_name": "Python 2",
   "language": "python",
   "name": "python2"
  },
  "language_info": {
   "codemirror_mode": {
    "name": "ipython",
    "version": 2
   },
   "file_extension": ".py",
   "mimetype": "text/x-python",
   "name": "python",
   "nbconvert_exporter": "python",
   "pygments_lexer": "ipython2",
   "version": "2.7.13"
  }
 },
 "nbformat": 4,
 "nbformat_minor": 2
}
